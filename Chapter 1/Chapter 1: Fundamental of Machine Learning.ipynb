{
 "cells": [
  {
   "cell_type": "markdown",
   "metadata": {},
   "source": [
    "# Chapter 1: Fundamental of Machine Learning"
   ]
  },
  {
   "cell_type": "markdown",
   "metadata": {},
   "source": [
    "### Heading of chapters"
   ]
  },
  {
   "cell_type": "markdown",
   "metadata": {},
   "source": [
    "#### 1.1 Machine Learning\n",
    "Machine Learning is the process where the computer programs learns from the data. Tom Mitchell, 1977 defines machine learning as, _A computer program is said to learn from experience E with respect to some task T and some performance measure P, if its performance on T, as measured by P, improves with experience E._"
   ]
  },
  {
   "cell_type": "markdown",
   "metadata": {},
   "source": [
    "**Traditional Programming Approach on Spam Filter**  \n",
    "\n",
    "We have seen spam filter in traditional programming. In that approach, all the words that are consider to be spam are listed together. For example words like: offer, free, 2Go etc. can be found in the sender's email address, email subject, email body. Programmer's need to write program rules that detects the pattern or contains those words. Once the program is tested and it is has certain accuracy we deploy the program to filter the spam. If there are lot of rules then it is difficult to maintain the code and apply changes in future. For example, if spammer modified the word 2Go with Two Go then again we need to change or write new the rules.\n",
    "\n",
    "Figure 1.1: Traditional Approach  \n",
    "![traditional_approach](traditional_approach.png)\n",
    "\n",
    "**Machine Learning approach on Spam Filter**  \n",
    "With machine learning approach instead of writing the rules and complex logic it will automatically learn the contents of the words and phrases, and try to predict where it is spam or not. The progam will be easier to maintain and will be more accurate. In the previous word 2Go if that has been changed to Two Go, in this approach, the machine will automatically flag without user intervention, since that word  has been unusually frequent in spam.\n",
    "\n",
    "Figure 1.2: Machine Learning Approach  \n",
    "![Machine Learning Approach](ml_approach.png)"
   ]
  },
  {
   "cell_type": "markdown",
   "metadata": {},
   "source": [
    "#### 1.3 Example of Machine Learning Applications  \n",
    "* Forecasting weather and revenues\n",
    "* Fraud detection in Banking and Insurance Claims\n",
    "* Product, Songs and Movies Recommendation\n",
    "* Speech Recognition\n",
    "* Classify the sentence or articles or product review\n",
    "* Flag offensive comments\n",
    "* Automated chatbot\n",
    "* Face Detection from image and videos\n",
    "* Shortening long documents\n",
    "* Voice to text conversion"
   ]
  },
  {
   "cell_type": "markdown",
   "metadata": {},
   "source": [
    "#### 1.4 Types of Machine Learning\n",
    "Machine Learning can be classified based on following categories:\n",
    "* Human Supervision\n",
    "    * Supervised Learning\n",
    "    * Unsupervised Learning\n",
    "    * Semisupervised Learning\n",
    "    * Reinforcement Learning\n",
    "* Online Learning vs Batch Learning\n",
    "* Instance-based Learning vs Model-based Learning\n",
    "\n",
    "**Note**: The above criteria are not exclusive, they can be combined together too."
   ]
  },
  {
   "cell_type": "markdown",
   "metadata": {},
   "source": [
    "#### 1.4.1 Supervised Learning\n",
    "Supervised learning has the target variable known as  `labels` in the dataset. Classification is an example of supervised learning. For example, in spam filter the `class` (spam or ham) is given in the dataset. Other example include Linear Regression for predicting the house price after certain year. The `target` value is determined based on attributes of the house and school disticts etc. known as `predictors`.  \n",
    "\n",
    "**Types of Supervised Learning Algorithm:**\n",
    "* Linear Regression\n",
    "* Logistic Regression\n",
    "* Descision Trees and Random Forests\n",
    "* k-Nearest Neighbors\n",
    "* Support Vector Machines (SVMs)\n",
    "* Neural Networks"
   ]
  },
  {
   "cell_type": "markdown",
   "metadata": {},
   "source": [
    "#### 1.4.2 Unsupervised Learning\n",
    "Unsupervised learning doesn't have the target variables. The algorithm will automatically learn itself.\n",
    "**Types of Unsupervised Learning Algorithm:**\n",
    "* Clustering\n",
    "    * K-Means\n",
    "    * DBSCAN\n",
    "* Association Rule Learning\n",
    "    * Apriori\n",
    "    * Eclat\n",
    "* Hierarchical Cluster Analysis (HCA)\n",
    "* Anomaly detection and novelty detection\n",
    "    * One-class SVM\n",
    "    * Isolation Forest\n",
    "* Visualization and dimensionality reduction\n",
    "    * Principal Component Analysis\n",
    "    * Kernel PCA\n",
    "    * Locally Linear Embedding (LLE)\n",
    "    * t-Distributed Stochastic Neighbor Embeddin (t-SNE)"
   ]
  },
  {
   "cell_type": "code",
   "execution_count": null,
   "metadata": {},
   "outputs": [],
   "source": []
  }
 ],
 "metadata": {
  "kernelspec": {
   "display_name": "Python 3",
   "language": "python",
   "name": "python3"
  },
  "language_info": {
   "codemirror_mode": {
    "name": "ipython",
    "version": 3
   },
   "file_extension": ".py",
   "mimetype": "text/x-python",
   "name": "python",
   "nbconvert_exporter": "python",
   "pygments_lexer": "ipython3",
   "version": "3.7.3"
  }
 },
 "nbformat": 4,
 "nbformat_minor": 2
}
