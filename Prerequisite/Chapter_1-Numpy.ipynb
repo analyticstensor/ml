{
 "cells": [
  {
   "cell_type": "markdown",
   "metadata": {},
   "source": [
    "# Chapter 1: NumPy"
   ]
  },
  {
   "cell_type": "markdown",
   "metadata": {},
   "source": [
    "[**1.1 Numpy**](#1.1-Numpy)   \n",
    "[**1.2 Numpy ndarray**](#1.2-Numpy-ndarray)   \n",
    "[**1.3 Creating an array**](#3.3-Creating-an-array)  \n",
    "[**1.3.1 ndarray constructor**](#1.3.1-ndarray-constructor)  \n",
    "[**1.3.2 Using routines**](#1.3.2-Using-routines)  \n",
    "[**1.4 Attributes of ndarray**](#1.4-Attributes-of-ndarray)  \n",
    "[**1.5 Creating numpy array**](#1.5-Creating-numpy-array)  \n",
    "[**1.6 Creating arrays using routines**](#1.6-Creating-arrays-using-routines)   \n",
    "[**1.6.1 Using arange**](#1.6.1-Using-arange)    \n",
    "[**1.6.2 Creating zeros arrays**](#1.6.2-Creating-zeros-arrays)  \n",
    "[**1.6.3 Creating an empty array**](#1.6.3-Creatin-an-empty-array)  \n",
    "[**1.6.4 Creating ones array**](#1.6.4-Creating-ones-array)  \n",
    "[**1.6.5 Creating random numbers**](#1.6.5-Creating-random-numbers)  \n",
    "[**1.6.6 Creating identity matrix**](#1.6.6-Creating-identity-matrix)  \n",
    "[**1.6.7 Creating full array**](#1.6.7-Creating-full-array)  \n",
    "[**1.7 Data Types for ndarrays**](#1.7-Data-Types-for-ndarrays)  \n",
    "[**1.8 Indexing and Slicing**](#1.8-Indexing-and-Slicing)  \n",
    "[**1.9 Advance Indexing and Slicing**](#1.9-Advance-Indexing-and-Slicing)  \n",
    "[**1.10 Boolean Indexing**](#1.10-Boolean-Indexing)  \n",
    "[**1.11 Fancy Indexing**](#1.11-Fancy-Indexing)  \n",
    "[**1.12 Transposing Arrays and Swapping Axes**](#1.12-Transposing-Arrays-and-Swapping-Axes)  \n",
    "[**1.13 Universal Functions**](#1.13-Universal-Functions)  \n",
    "[**1.14 Methods for Boolean Arrays**](#1.14-Methods-for-Boolean-Arrays)  \n",
    "[**1.15 Sorting**](#1.15-Sorting)  \n",
    "[**1.16 Set Logic**](#1.16-Set-Logic)  \n",
    "[**1.17 Masked Arrays**](#1.17-Masked-Arrays)   \n",
    "[**1.18 Array manipulation routines**](#1.18-Array-manipulation-routines)"
   ]
  },
  {
   "cell_type": "markdown",
   "metadata": {},
   "source": [
    "#### 1.1 Numpy\n",
    "\n",
    "Numpy is acronomy for **Numeric Python** or **Numerical Python**. Numpy array is similar to Python list but it provides more benefits for example: being more compact, faster access in reading and writing items and, more conveninent and efficient. Numpy is one of the most important foundational packages for numerical computing in Python. It is a core library for scientific computation in Python. It provides high-performance multidimensional array object for efficient computation of arrays and matrices. Benefit of using Numpy includes:-  \n",
    "* ndarray: An efficient multidimensional array providing fast array oriented arithmetic operations and flexible broadcasting capabilites.\n",
    "* Mathematical functions are fast for operating on entire arrays of data. No need to write loops.\n",
    "* Used for reading/writing array data to disk and working with memory-mapped files.\n",
    "* It has linear algebra, random numuber generation, and Fourier transform capabilities.\n",
    "* It has C API for connecting Numpy with libraries written in C, C++ etc.\n",
    "\n",
    "Numpy is not used for :-\n",
    "* It does not provide modeling or scientific functionality."
   ]
  },
  {
   "cell_type": "markdown",
   "metadata": {},
   "source": [
    "#### 1.2 NumPy ndarray\n",
    "\n",
    "The key feature of NumPy is its N-dimensional array object, or ndarray. ndarray is a fast, flexible container for large datasets in Python. Array enables to perform mathematical operations on whole blocks of data using similiar syntax to the equivalent operations between scalar elements.\n",
    "\n",
    "For example, Let's generate some random data and do some mathematical operations."
   ]
  },
  {
   "cell_type": "code",
   "execution_count": 11,
   "metadata": {},
   "outputs": [
    {
     "name": "stdout",
     "output_type": "stream",
     "text": [
      "Sensor Data\n",
      " [[-0.53280803 -0.70222456  0.96294466]\n",
      " [ 0.59970264 -0.49662431  2.02395096]]\n",
      "Sensor Data multiplied by 5\n",
      " [[-2.66404013 -3.5111228   4.8147233 ]\n",
      " [ 2.99851319 -2.48312153 10.11975478]]\n",
      "Sensor Data added\n",
      " [[-1.06561605 -1.40444912  1.92588932]\n",
      " [ 1.19940528 -0.99324861  4.04790191]]\n"
     ]
    }
   ],
   "source": [
    "import numpy as np\n",
    "sensor_data = np.random.randn(2,3)   # Generate random number\n",
    "print(\"Sensor Data\\n\", sensor_data)\n",
    "senor_data_5 = sensor_data * 5\n",
    "print(\"Sensor Data multiplied by 5\\n\",senor_data_5)\n",
    "print(\"Sensor Data added\\n\",sensor_data + sensor_data)"
   ]
  },
  {
   "cell_type": "markdown",
   "metadata": {},
   "source": [
    "An ndarray is generic multidimensional container for homogenous data; i.e. all the items are of same types and size. Every items takes the same block size of memory, and all blocks are interpreted in exactly same way. `ndarrays` can share the same data. When the changes is made in one `ndarray`, it may be visible to others. So, ndarray can be a _view_ to other ndarray. Every array has:\n",
    "* **shape**: a tuple indicating the size of each dimension.\n",
    "* **dtype**: an object describing the _data type_ of the arrray.\n",
    "\n",
    "The dimensions of ndarray is also known as `axes`. For example, `[0, 1 , 2]` has 1 axis and 3 elements.\n",
    "\n",
    "\n",
    "Further Reading on N-dimensional array: [N-dimensional array (ndarray)](https://docs.scipy.org/doc/numpy/reference/arrays.ndarray.html)"
   ]
  },
  {
   "cell_type": "code",
   "execution_count": 12,
   "metadata": {},
   "outputs": [
    {
     "data": {
      "text/plain": [
       "(2, 3)"
      ]
     },
     "execution_count": 12,
     "metadata": {},
     "output_type": "execute_result"
    }
   ],
   "source": [
    "sensor_data.shape"
   ]
  },
  {
   "cell_type": "code",
   "execution_count": 13,
   "metadata": {},
   "outputs": [
    {
     "data": {
      "text/plain": [
       "dtype('float64')"
      ]
     },
     "execution_count": 13,
     "metadata": {},
     "output_type": "execute_result"
    }
   ],
   "source": [
    "sensor_data.dtype"
   ]
  },
  {
   "cell_type": "markdown",
   "metadata": {},
   "source": [
    "#### 1.3 Creating an arrays\n",
    "There are several ways to create an array:  \n",
    "1. using low-level `ndarray` constructor. [More Info](https://docs.scipy.org/doc/numpy/reference/generated/numpy.ndarray.html#numpy.ndarray).\n",
    "2. using routines defined in [Array creation routines](https://docs.scipy.org/doc/numpy/reference/routines.array-creation.html#routines-array-creation)."
   ]
  },
  {
   "cell_type": "markdown",
   "metadata": {},
   "source": [
    "#### 1.3.1 ndarray constructor\n",
    "* numpy.ndarray(shape, dtype=float, buffer=None, offset=0, strides=None, order=None)\n",
    "* shape: It defines the shape of array to be created. It is tuples of ints. \n",
    "* dtype: It defines the data type of the elements. It is an optional.\n",
    "* buffer: It is used ot fill the array with data. It is an optional.\n",
    "* offset: Offset of array data in buffer. It is an optional.\n",
    "* strides: Strides of data in memory. It is an optional.\n",
    "* order: Defines the row-major (C-style) or column-major (Fortran-style) order. i.e. {'C', 'F'}. It is an optional."
   ]
  },
  {
   "cell_type": "markdown",
   "metadata": {},
   "source": [
    "#### 1.3.2 Using routines\n",
    "\n",
    "Table 1.1: Routines for one and zeros\n",
    "\n",
    "\n",
    "| Methods | Description |\n",
    "| ------- | ----------- |\n",
    "| empty(shape[, dtype, order]) | Return a new array of given shape and type, without initializing entries. |\n",
    "| empty_like(prototype[, dtype, order, subok, …]) | Return a new array with the same shape and type as a given array. | \n",
    "| eye(N[, M, k, dtype, order]) | Return a 2-D array with ones on the diagonal and zeros elsewhere. | \n",
    "| identity(n[, dtype]) | Return the identity array. | \n",
    "| ones(shape[, dtype, order]) |  Return a new array of given shape and type, filled with ones. | \n",
    "| ones_like(a[, dtype, order, subok, shape]) | Return an array of ones with the same shape and type as a given array. | \n",
    "| zeros(shape[, dtype, order]) | Return a new array of given shape and type, filled with zeros. | \n",
    "| zeros_like(a[, dtype, order, subok, shape]) | Return an array of zeros with the same shape and type as a given array. | \n",
    "| full(shape, fill_value[, dtype, order]) | Return a new array of given shape and type, filled with fill_value. | \n",
    "| full_like(a, fill_value[, dtype, order, …]) | Return a full array with the same shape and type as a given array. |"
   ]
  },
  {
   "cell_type": "markdown",
   "metadata": {},
   "source": [
    "Table 1.2:Routines from existing data\n",
    "\n",
    "| Methods | Description |\n",
    "| ------- | ----------- |\n",
    "| array(object[, dtype, copy, order, subok, ndmin]) | Create an array. |\n",
    "| asarray(a[, dtype, order]) | Convert the input to an array. |\n",
    "| asanyarray(a[, dtype, order]) | Convert the input to an ndarray, but pass ndarray subclasses through. |\n",
    "| ascontiguousarray(a[, dtype]) | Return a contiguous array (ndim >= 1) in memory (C order). |\n",
    "| asmatrix(data[, dtype]) | Interpret the input as a matrix. |\n",
    "| copy(a[, order]) | Return an array copy of the given object. |\n",
    "| frombuffer(buffer[, dtype, count, offset]) | Interpret a buffer as a 1-dimensional array. |\n",
    "| fromfile(file[, dtype, count, sep, offset]) | Construct an array from data in a text or binary file. |\n",
    "| fromfunction(function, shape, \\*\\*kwargs) | Construct an array by executing a function over each coordinate. |\n",
    "| fromiter(iterable, dtype[, count]) | Create a new 1-dimensional array from an iterable object. |\n",
    "| fromstring(string[, dtype, count, sep]) | A new 1-D array initialized from text data in a string. |\n",
    "| loadtxt(fname[, dtype, comments, delimiter, …]) | Load data from a text file. |"
   ]
  },
  {
   "cell_type": "markdown",
   "metadata": {},
   "source": [
    "#### 1.4 Attributes of ndarray\n",
    "* **ndarray.ndim**: defines the number of axes (dimensions) of the array.\n",
    "* **ndarray.shape**: defines the number of dimensions and items in an array. It is a tuple of N non-negative integers that specify the sizes of each dimension. A matrix with _n_ rows and _m_ columns has `shape` of `(n,m)`. The length of the shape tuple is the number of axes, i.e. `ndim`\n",
    "* **ndarray.size**: defines the total number of elements of the array. It is equal to the product of elements of shape.\n",
    "* **ndarray.dtype**: defines the type of elements in the array.\n",
    "* **ndarray.itemsize**: defines the size (in bytes) of each elements of the array. e.g. `float64` has itemsize 8 (i.e. 64/8), complex32 has itemsize 4 (i.e. 32/8). It is similar to `ndarray.dtype.itemsize`.\n",
    "* **ndarray.data**: defines the buffer containing the actual elements of the array. It is not used since we'll access element using indexing/slicing. Indexing is used to access and modify the contents of an ndarray. Also, using methods and attributes of ndarray, the contents can accessed and modified.\n",
    "* **ndarray.flags**: defines memory layout of the array.\n",
    "* **ndarray.strides**: defines the tuple of bytes to step in each dimension when traversing an array. It describes the number of bytes that should be skipped in memory to go to the next element. If the strides are (5,2), then we need to proceed two byte to get to the next column and 5 bytes to locate the next row.\n",
    "* **ndarray.nbytes**: defines the total bytes consumed by the elements of the array.\n",
    "* **ndarray.base**: defines the base object if memory is from some other object.\n",
    "* **ndarray.T**: transpose the array.\n",
    "* **ndarray.real**: the real part of the array.\n",
    "* **ndarray.imag**: the imaginary part of the array.\n",
    "* **ndarray.flat**: One dimensional iterator over the array.\n",
    "* **ndarray.ctypes**: defines an objects to simplify the interaxtion of the array with the ctypes module."
   ]
  },
  {
   "cell_type": "markdown",
   "metadata": {},
   "source": [
    "#### 1.5 Creating numpy array\n",
    "**`numpy`** module is used to create n-dimensional array."
   ]
  },
  {
   "cell_type": "code",
   "execution_count": 2,
   "metadata": {},
   "outputs": [],
   "source": [
    "import numpy as np"
   ]
  },
  {
   "cell_type": "markdown",
   "metadata": {},
   "source": [
    "To create numpy array we need to use `np.array()` function. It take list as it's parameter and other optional parameter can be specified for data types, buffer, offset, stride and order. Data type is specified where we need more control on data stored in memory and on disk."
   ]
  },
  {
   "cell_type": "code",
   "execution_count": 9,
   "metadata": {},
   "outputs": [
    {
     "name": "stdout",
     "output_type": "stream",
     "text": [
      "one_dim_array: [0 1 2]\n",
      "Type: <class 'numpy.ndarray'>\n",
      "Dtype: int32\n",
      "Dimension: 1\n",
      "Size: 3\n",
      "Shape: (3,)\n",
      "ItemSize: 4\n"
     ]
    },
    {
     "data": {
      "text/plain": [
       "array([0, 1, 2], dtype=int32)"
      ]
     },
     "execution_count": 9,
     "metadata": {},
     "output_type": "execute_result"
    }
   ],
   "source": [
    "# Create one dimensional array of size 3, with 4-byte integer elements\n",
    "one_dim_array = np.array([0,1,2], np.int32)\n",
    "print(\"one_dim_array:\", one_dim_array)\n",
    "print(\"Type:\", type(one_dim_array))\n",
    "print(\"Dtype:\", one_dim_array.dtype)\n",
    "print(\"Dimension:\",one_dim_array.ndim)\n",
    "print(\"Size:\",one_dim_array.size)\n",
    "print(\"Shape:\",one_dim_array.shape)\n",
    "print(\"ItemSize:\",one_dim_array.itemsize)\n",
    "one_dim_array"
   ]
  },
  {
   "cell_type": "markdown",
   "metadata": {},
   "source": [
    "**Note**: The above one dimension array has one axis with 3 elements."
   ]
  },
  {
   "cell_type": "code",
   "execution_count": 10,
   "metadata": {},
   "outputs": [
    {
     "name": "stdout",
     "output_type": "stream",
     "text": [
      "two_dim_array: [[0 1 2]\n",
      " [3 4 5]]\n",
      "Type: <class 'numpy.ndarray'>\n",
      "Dtype: int32\n",
      "Dimension: 2\n",
      "Size: 6\n",
      "Shape: (2, 3)\n",
      "ItemSize: 4\n"
     ]
    },
    {
     "data": {
      "text/plain": [
       "array([[0, 1, 2],\n",
       "       [3, 4, 5]], dtype=int32)"
      ]
     },
     "execution_count": 10,
     "metadata": {},
     "output_type": "execute_result"
    }
   ],
   "source": [
    "# Create two dimensional array of size 2x3, with 4-byte integer elements\n",
    "two_dim_array = np.array([[0,1,2], [3,4,5]], np.int32)\n",
    "print(\"two_dim_array:\", two_dim_array)\n",
    "print(\"Type:\", type(two_dim_array))\n",
    "print(\"Dtype:\", two_dim_array.dtype)\n",
    "print(\"Dimension:\",two_dim_array.ndim)\n",
    "print(\"Size:\",two_dim_array.size)\n",
    "print(\"Shape:\",two_dim_array.shape)\n",
    "print(\"ItemSize:\",two_dim_array.itemsize)\n",
    "two_dim_array"
   ]
  },
  {
   "cell_type": "markdown",
   "metadata": {},
   "source": [
    "**Note**: The above two dimension array has two axis with six elements."
   ]
  },
  {
   "cell_type": "code",
   "execution_count": 37,
   "metadata": {},
   "outputs": [
    {
     "name": "stdout",
     "output_type": "stream",
     "text": [
      "three_dim_array: [[[0 1 2]\n",
      "  [3 4 5]\n",
      "  [6 7 8]]]\n",
      "Type: <class 'numpy.ndarray'>\n",
      "Dtype: int32\n",
      "Dimension: 3\n",
      "Size: 9\n",
      "Shape: (1, 3, 3)\n",
      "ItemSize: 4\n"
     ]
    },
    {
     "data": {
      "text/plain": [
       "array([[[0, 1, 2],\n",
       "        [3, 4, 5],\n",
       "        [6, 7, 8]]], dtype=int32)"
      ]
     },
     "execution_count": 37,
     "metadata": {},
     "output_type": "execute_result"
    }
   ],
   "source": [
    "# Create three dimensional array of size 2x3, with 4-byte integer elements\n",
    "three_dim_array = np.array([[[0,1,2], [3,4,5], [6,7,8]]], np.int32)\n",
    "print(\"three_dim_array:\", three_dim_array)\n",
    "print(\"Type:\", type(three_dim_array))\n",
    "print(\"Dtype:\", three_dim_array.dtype)\n",
    "print(\"Dimension:\",three_dim_array.ndim)\n",
    "print(\"Size:\",three_dim_array.size)\n",
    "print(\"Shape:\",three_dim_array.shape)\n",
    "print(\"ItemSize:\",three_dim_array.itemsize)\n",
    "three_dim_array"
   ]
  },
  {
   "cell_type": "markdown",
   "metadata": {},
   "source": [
    "**Note**: The above three dimension array has three axis with nine elements."
   ]
  },
  {
   "cell_type": "code",
   "execution_count": 40,
   "metadata": {},
   "outputs": [
    {
     "name": "stdout",
     "output_type": "stream",
     "text": [
      "three_dim_two_depth_array: [[[ 0  1  2]\n",
      "  [ 3  4  5]\n",
      "  [ 6  7  8]]\n",
      "\n",
      " [[10 11 12]\n",
      "  [13 14 15]\n",
      "  [16 17 18]]]\n",
      "Type: <class 'numpy.ndarray'>\n",
      "Dtype: int32\n",
      "Dimension: 3\n",
      "Size: 18\n",
      "Shape: (2, 3, 3)\n",
      "ItemSize: 4\n"
     ]
    },
    {
     "data": {
      "text/plain": [
       "array([[[ 0,  1,  2],\n",
       "        [ 3,  4,  5],\n",
       "        [ 6,  7,  8]],\n",
       "\n",
       "       [[10, 11, 12],\n",
       "        [13, 14, 15],\n",
       "        [16, 17, 18]]], dtype=int32)"
      ]
     },
     "execution_count": 40,
     "metadata": {},
     "output_type": "execute_result"
    }
   ],
   "source": [
    "# Create three dimensional array of size 2x3, with 4-byte integer elements\n",
    "three_dim_two_depth_array = np.array([[[0,1,2], [3,4,5], [6,7,8]], [[10,11,12], [13,14,15], [16,17,18]]], np.int32)\n",
    "print(\"three_dim_two_depth_array:\", three_dim_two_depth_array)\n",
    "print(\"Type:\", type(three_dim_two_depth_array))\n",
    "print(\"Dtype:\", three_dim_two_depth_array.dtype)\n",
    "print(\"Dimension:\",three_dim_two_depth_array.ndim)\n",
    "print(\"Size:\",three_dim_two_depth_array.size)\n",
    "print(\"Shape:\",three_dim_two_depth_array.shape)\n",
    "print(\"ItemSize:\",three_dim_two_depth_array.itemsize)\n",
    "three_dim_two_depth_array"
   ]
  },
  {
   "cell_type": "markdown",
   "metadata": {},
   "source": [
    "**Note:** The above array has 2 depth, 3 rows and 4 column defined in shape (2,3,3)."
   ]
  },
  {
   "cell_type": "markdown",
   "metadata": {},
   "source": [
    "#### 1.6 Creating arrays using routines"
   ]
  },
  {
   "cell_type": "markdown",
   "metadata": {},
   "source": [
    "#### 1.6.1 Using arange\n",
    "`arange` is an array-valued version of the built-in Python range function."
   ]
  },
  {
   "cell_type": "code",
   "execution_count": 85,
   "metadata": {},
   "outputs": [
    {
     "data": {
      "text/plain": [
       "array([ 0,  1,  2,  3,  4,  5,  6,  7,  8,  9, 10, 11, 12, 13, 14, 15, 16,\n",
       "       17, 18, 19, 20, 21, 22, 23, 24])"
      ]
     },
     "execution_count": 85,
     "metadata": {},
     "output_type": "execute_result"
    }
   ],
   "source": [
    "new_data = np.arange(25)\n",
    "new_data"
   ]
  },
  {
   "cell_type": "markdown",
   "metadata": {},
   "source": [
    "#### 1.6.2 Creating zeros arrays"
   ]
  },
  {
   "cell_type": "code",
   "execution_count": 69,
   "metadata": {},
   "outputs": [
    {
     "data": {
      "text/plain": [
       "array([[[0., 0., 0., 0., 0.],\n",
       "        [0., 0., 0., 0., 0.],\n",
       "        [0., 0., 0., 0., 0.],\n",
       "        [0., 0., 0., 0., 0.],\n",
       "        [0., 0., 0., 0., 0.]],\n",
       "\n",
       "       [[0., 0., 0., 0., 0.],\n",
       "        [0., 0., 0., 0., 0.],\n",
       "        [0., 0., 0., 0., 0.],\n",
       "        [0., 0., 0., 0., 0.],\n",
       "        [0., 0., 0., 0., 0.]]])"
      ]
     },
     "execution_count": 69,
     "metadata": {},
     "output_type": "execute_result"
    }
   ],
   "source": [
    "a = np.zeros((2, 5, 5))\n",
    "a"
   ]
  },
  {
   "cell_type": "code",
   "execution_count": 68,
   "metadata": {},
   "outputs": [
    {
     "data": {
      "text/plain": [
       "(5, 5, 5)"
      ]
     },
     "execution_count": 68,
     "metadata": {},
     "output_type": "execute_result"
    }
   ],
   "source": [
    "a.shape"
   ]
  },
  {
   "cell_type": "markdown",
   "metadata": {},
   "source": [
    "#### 1.6.3  Creating an empty array\n",
    "Empty array is used to create placeholder of array structure, where the data is filled later. We can also initialize array with zeros, ones, constant or random values."
   ]
  },
  {
   "cell_type": "code",
   "execution_count": 170,
   "metadata": {},
   "outputs": [
    {
     "data": {
      "text/plain": [
       "array([[4.4e-323, 0.0e+000, 0.0e+000, 0.0e+000],\n",
       "       [0.0e+000, 0.0e+000, 0.0e+000, 0.0e+000]])"
      ]
     },
     "execution_count": 170,
     "metadata": {},
     "output_type": "execute_result"
    }
   ],
   "source": [
    "# Create an empty array\n",
    "np.empty((2,4))"
   ]
  },
  {
   "cell_type": "code",
   "execution_count": 171,
   "metadata": {},
   "outputs": [
    {
     "data": {
      "text/plain": [
       "array([[[0, 0, 0, 0],\n",
       "        [0, 0, 0, 0],\n",
       "        [0, 0, 0, 0]],\n",
       "\n",
       "       [[0, 0, 0, 0],\n",
       "        [0, 0, 0, 0],\n",
       "        [0, 0, 0, 0]]], dtype=int16)"
      ]
     },
     "execution_count": 171,
     "metadata": {},
     "output_type": "execute_result"
    }
   ],
   "source": [
    "# Create an array of zeros\n",
    "np.zeros((2,3,4), dtype = np.int16)"
   ]
  },
  {
   "cell_type": "markdown",
   "metadata": {},
   "source": [
    "#### 1.6.4  Creating ones array"
   ]
  },
  {
   "cell_type": "code",
   "execution_count": 172,
   "metadata": {},
   "outputs": [
    {
     "data": {
      "text/plain": [
       "array([[1., 1., 1., 1., 1.],\n",
       "       [1., 1., 1., 1., 1.],\n",
       "       [1., 1., 1., 1., 1.]])"
      ]
     },
     "execution_count": 172,
     "metadata": {},
     "output_type": "execute_result"
    }
   ],
   "source": [
    "# Create an array of ones\n",
    "np.ones((3,5))"
   ]
  },
  {
   "cell_type": "markdown",
   "metadata": {},
   "source": [
    "#### 1.6.5  Creating random numbers"
   ]
  },
  {
   "cell_type": "code",
   "execution_count": 174,
   "metadata": {},
   "outputs": [
    {
     "data": {
      "text/plain": [
       "array([[0.57722195, 0.10955283, 0.91949129],\n",
       "       [0.20238217, 0.50675145, 0.47540398],\n",
       "       [0.64427806, 0.41343669, 0.17205333]])"
      ]
     },
     "execution_count": 174,
     "metadata": {},
     "output_type": "execute_result"
    }
   ],
   "source": [
    "# Create an array with random values\n",
    "np.random.random((3,3))"
   ]
  },
  {
   "cell_type": "markdown",
   "metadata": {},
   "source": [
    "#### 1.6.6  Creating identity matrix"
   ]
  },
  {
   "cell_type": "code",
   "execution_count": 83,
   "metadata": {},
   "outputs": [
    {
     "data": {
      "text/plain": [
       "array([[1., 0., 0., 0.],\n",
       "       [0., 1., 0., 0.],\n",
       "       [0., 0., 1., 0.],\n",
       "       [0., 0., 0., 1.]])"
      ]
     },
     "execution_count": 83,
     "metadata": {},
     "output_type": "execute_result"
    }
   ],
   "source": [
    "# Create an identity matrix\n",
    "np.identity(4)"
   ]
  },
  {
   "cell_type": "code",
   "execution_count": 84,
   "metadata": {},
   "outputs": [
    {
     "data": {
      "text/plain": [
       "array([[1., 0., 0., 0.],\n",
       "       [0., 1., 0., 0.],\n",
       "       [0., 0., 1., 0.],\n",
       "       [0., 0., 0., 1.]])"
      ]
     },
     "execution_count": 84,
     "metadata": {},
     "output_type": "execute_result"
    }
   ],
   "source": [
    "# Create an identity matrix\n",
    "# Identity matix is a square matrix where all the elements in the principal diagonal are ones\n",
    "# and other elements are zeros. Multiplying matrix with an identity matrix won't change the values. \n",
    "np.eye(4)"
   ]
  },
  {
   "cell_type": "markdown",
   "metadata": {},
   "source": [
    "#### 1.6.7 Creating full array"
   ]
  },
  {
   "cell_type": "code",
   "execution_count": 175,
   "metadata": {},
   "outputs": [
    {
     "data": {
      "text/plain": [
       "array([[5, 5, 5, 5],\n",
       "       [5, 5, 5, 5]])"
      ]
     },
     "execution_count": 175,
     "metadata": {},
     "output_type": "execute_result"
    }
   ],
   "source": [
    "# Create a full array\n",
    "np.full((2,4),5)"
   ]
  },
  {
   "cell_type": "code",
   "execution_count": 179,
   "metadata": {},
   "outputs": [
    {
     "data": {
      "text/plain": [
       "array([2, 4, 6, 8])"
      ]
     },
     "execution_count": 179,
     "metadata": {},
     "output_type": "execute_result"
    }
   ],
   "source": [
    "# Create an array of evenly-spaced values\n",
    "np.arange(2,10,2)"
   ]
  },
  {
   "cell_type": "code",
   "execution_count": 184,
   "metadata": {},
   "outputs": [
    {
     "data": {
      "text/plain": [
       "array([0.  , 0.25, 0.5 , 0.75, 1.  , 1.25, 1.5 , 1.75, 2.  ])"
      ]
     },
     "execution_count": 184,
     "metadata": {},
     "output_type": "execute_result"
    }
   ],
   "source": [
    "# Create an array of evenly-spaced values\n",
    "np.linspace(0,2,9)"
   ]
  },
  {
   "cell_type": "markdown",
   "metadata": {},
   "source": [
    "#### 1.7 Data Types for ndarrays\n",
    "The _data type_ or **dtype** is a special object that contains the information or metadata the ndarray needs to interpret a chunk of memory as a particular type of data. The numerical dtypes are represented with type name i.e. (int, float), followed by a number indicating the number of bits per element. A standard double-precision floating-point value takes 8 bytes or 64 bits. This type is known as **float64**."
   ]
  },
  {
   "cell_type": "markdown",
   "metadata": {},
   "source": [
    "Table 1.3: NumPy Data Types\n",
    "\n",
    "| Type | Type Code | Description |\n",
    "| ---- | ---- | ---- |\n",
    "| int 8, uint8 | i1, u1 | Signed and unsigned 8-bit(1 byte) integer types |\n",
    "| int 16, unint16 | i2, u2 | Signed and unsigned 16-bit integer types |\n",
    "| int 36, unint32 | i4, u4 | Signed and unsigned 32-bit integer types |\n",
    "| int 64, unint64 | i8, u8 | Signed and unsigned 62-bit integer types |\n",
    "| float16 | f2 | Half-precision floating point |\n",
    "| float32 | f4 or f | Standard single-precision floating point; Compatible with C float |\n",
    "| float64 | f8 or d | Standard double-precision floating point; Compatible with C double and Python float object |\n",
    "| float 128 | f16 or g | Extended-precision floating point |\n",
    "| complex64, complex128, complex256 | c8, c16, c32 | Complex numbers represented by two 32, 54, or 128 floats resp. |\n",
    "| bool | ? | Boolean type storing True and False values |\n",
    "| object | O | Python object type; a value can be any Python object |\n",
    "| string_ | S | Fixed-length ASCII string type ( 1 byte per character); for e.g. to create a string dytpe with length 10, use 'S10' |\n",
    "| unicode_ | U | Fixed-length Unicode type (number of bytes platform specific); same specification semantics as string_ (e.g., 'U10') |"
   ]
  },
  {
   "cell_type": "code",
   "execution_count": 87,
   "metadata": {},
   "outputs": [
    {
     "data": {
      "text/plain": [
       "dtype('float64')"
      ]
     },
     "execution_count": 87,
     "metadata": {},
     "output_type": "execute_result"
    }
   ],
   "source": [
    "array_one = np.array([5,6,7], dtype = np.float64)\n",
    "array_one.dtype"
   ]
  },
  {
   "cell_type": "code",
   "execution_count": 88,
   "metadata": {},
   "outputs": [
    {
     "data": {
      "text/plain": [
       "dtype('int32')"
      ]
     },
     "execution_count": 88,
     "metadata": {},
     "output_type": "execute_result"
    }
   ],
   "source": [
    "array_two = np.array([5,6,7], dtype = np.int32)\n",
    "array_two.dtype"
   ]
  },
  {
   "cell_type": "markdown",
   "metadata": {},
   "source": [
    "We can explicitly `cast` an array from one dtype to another using ndarray's **`astype`** method. Calling `astype` will always creates a new array. i.e copy of the data, even if the new dtype is the same as the old dtype."
   ]
  },
  {
   "cell_type": "code",
   "execution_count": 89,
   "metadata": {},
   "outputs": [
    {
     "name": "stdout",
     "output_type": "stream",
     "text": [
      "int64\n",
      "float64\n"
     ]
    }
   ],
   "source": [
    "arr_int = np.array([1,2,3,4])\n",
    "print(arr_int.dtype)\n",
    "arr_float = arr_int.astype(np.float64)\n",
    "print(arr_float.dtype)"
   ]
  },
  {
   "cell_type": "code",
   "execution_count": 96,
   "metadata": {},
   "outputs": [
    {
     "data": {
      "text/plain": [
       "array([  1.  ,   2.  ,   3.5 , 100.56])"
      ]
     },
     "execution_count": 96,
     "metadata": {},
     "output_type": "execute_result"
    }
   ],
   "source": [
    "arr_string = np.array(['1', '2', '3.5', '100.56'])\n",
    "arr_string.astype(np.float64)"
   ]
  },
  {
   "cell_type": "markdown",
   "metadata": {},
   "source": [
    "**ValueError** will be raised if it fails to cast. For e.g. casting string than cannot be convert to numberic."
   ]
  },
  {
   "cell_type": "code",
   "execution_count": 99,
   "metadata": {},
   "outputs": [
    {
     "ename": "ValueError",
     "evalue": "could not convert string to float: 'B'",
     "output_type": "error",
     "traceback": [
      "\u001b[0;31m---------------------------------------------------------------------------\u001b[0m",
      "\u001b[0;31mValueError\u001b[0m                                Traceback (most recent call last)",
      "\u001b[0;32m<ipython-input-99-69a41e98813d>\u001b[0m in \u001b[0;36m<module>\u001b[0;34m\u001b[0m\n\u001b[1;32m      1\u001b[0m \u001b[0marr_err\u001b[0m \u001b[0;34m=\u001b[0m \u001b[0mnp\u001b[0m\u001b[0;34m.\u001b[0m\u001b[0marray\u001b[0m\u001b[0;34m(\u001b[0m\u001b[0;34m[\u001b[0m\u001b[0;34m'1'\u001b[0m\u001b[0;34m,\u001b[0m \u001b[0;34m'B'\u001b[0m\u001b[0;34m,\u001b[0m \u001b[0;34m'3'\u001b[0m\u001b[0;34m]\u001b[0m\u001b[0;34m)\u001b[0m\u001b[0;34m\u001b[0m\u001b[0;34m\u001b[0m\u001b[0m\n\u001b[0;32m----> 2\u001b[0;31m \u001b[0marr_err\u001b[0m\u001b[0;34m.\u001b[0m\u001b[0mastype\u001b[0m\u001b[0;34m(\u001b[0m\u001b[0mfloat\u001b[0m\u001b[0;34m)\u001b[0m\u001b[0;34m\u001b[0m\u001b[0;34m\u001b[0m\u001b[0m\n\u001b[0m",
      "\u001b[0;31mValueError\u001b[0m: could not convert string to float: 'B'"
     ]
    }
   ],
   "source": [
    "arr_err = np.array(['1', 'B', '3'])\n",
    "arr_err.astype(float) "
   ]
  },
  {
   "cell_type": "markdown",
   "metadata": {},
   "source": [
    "We can also use array's dtype attribute to cast the type."
   ]
  },
  {
   "cell_type": "code",
   "execution_count": 101,
   "metadata": {},
   "outputs": [
    {
     "data": {
      "text/plain": [
       "array([1., 2., 3., 4.])"
      ]
     },
     "execution_count": 101,
     "metadata": {},
     "output_type": "execute_result"
    }
   ],
   "source": [
    "arr_int.astype(arr_float.dtype) # the converted array will be float, it is using arr_float's data type."
   ]
  },
  {
   "cell_type": "markdown",
   "metadata": {},
   "source": [
    "#### 1.8 Indexing and Slicing\n",
    "We can subset the data or individual elements using indexing and slicing."
   ]
  },
  {
   "cell_type": "markdown",
   "metadata": {},
   "source": [
    "**One dimensional array**: One dimensional array is simple and similar to python list."
   ]
  },
  {
   "cell_type": "code",
   "execution_count": 103,
   "metadata": {},
   "outputs": [
    {
     "data": {
      "text/plain": [
       "array([0, 1, 2, 3, 4, 5, 6, 7, 8, 9])"
      ]
     },
     "execution_count": 103,
     "metadata": {},
     "output_type": "execute_result"
    }
   ],
   "source": [
    "sequence_9 = np.arange(10)\n",
    "sequence_9"
   ]
  },
  {
   "cell_type": "code",
   "execution_count": 104,
   "metadata": {},
   "outputs": [
    {
     "data": {
      "text/plain": [
       "5"
      ]
     },
     "execution_count": 104,
     "metadata": {},
     "output_type": "execute_result"
    }
   ],
   "source": [
    "sequence_9[7]  # retrieve the 7th element from the array."
   ]
  },
  {
   "cell_type": "code",
   "execution_count": 105,
   "metadata": {},
   "outputs": [
    {
     "data": {
      "text/plain": [
       "array([2, 3, 4, 5, 6, 7])"
      ]
     },
     "execution_count": 105,
     "metadata": {},
     "output_type": "execute_result"
    }
   ],
   "source": [
    "sequence_9[2:8]  # retrieve the 2 to 7th element from the array."
   ]
  },
  {
   "cell_type": "code",
   "execution_count": 106,
   "metadata": {},
   "outputs": [
    {
     "data": {
      "text/plain": [
       "array([  0,   1, 100, 100, 100, 100, 100, 100,   8,   9])"
      ]
     },
     "execution_count": 106,
     "metadata": {},
     "output_type": "execute_result"
    }
   ],
   "source": [
    "sequence_9[2:8] = 100  # Assign a scalar value to a slice\n",
    "sequence_9"
   ]
  },
  {
   "cell_type": "markdown",
   "metadata": {},
   "source": [
    "**Important Note**: In the above example, the array slice is assigned with scalar value. The distinction with Python's list is that array slice are _views_ on the original array. It means that the data is not copied, any modifications to the view will be reflected in the source array. Let's see the example below:"
   ]
  },
  {
   "cell_type": "code",
   "execution_count": 109,
   "metadata": {},
   "outputs": [
    {
     "data": {
      "text/plain": [
       "array([100, 100, 100, 100, 100,   8])"
      ]
     },
     "execution_count": 109,
     "metadata": {},
     "output_type": "execute_result"
    }
   ],
   "source": [
    "sequence_35 = sequence_9[3:9]\n",
    "sequence_35"
   ]
  },
  {
   "cell_type": "markdown",
   "metadata": {},
   "source": [
    "When the value of **sequence_35** is changed then the mutations will be reflected into the original array."
   ]
  },
  {
   "cell_type": "code",
   "execution_count": 110,
   "metadata": {},
   "outputs": [],
   "source": [
    "sequence_35[2] = 789"
   ]
  },
  {
   "cell_type": "code",
   "execution_count": 111,
   "metadata": {},
   "outputs": [
    {
     "data": {
      "text/plain": [
       "array([100, 100, 789, 100, 100,   8])"
      ]
     },
     "execution_count": 111,
     "metadata": {},
     "output_type": "execute_result"
    }
   ],
   "source": [
    "sequence_35"
   ]
  },
  {
   "cell_type": "code",
   "execution_count": 112,
   "metadata": {},
   "outputs": [
    {
     "data": {
      "text/plain": [
       "array([  0,   1, 100, 100, 100, 789, 100, 100,   8,   9])"
      ]
     },
     "execution_count": 112,
     "metadata": {},
     "output_type": "execute_result"
    }
   ],
   "source": [
    "sequence_9"
   ]
  },
  {
   "cell_type": "markdown",
   "metadata": {},
   "source": [
    "The \"bare\" slice **[:]** will assign to all values in an array."
   ]
  },
  {
   "cell_type": "code",
   "execution_count": 113,
   "metadata": {},
   "outputs": [
    {
     "data": {
      "text/plain": [
       "array([  0,   1, 100,   0,   0,   0,   0,   0,   0,   9])"
      ]
     },
     "execution_count": 113,
     "metadata": {},
     "output_type": "execute_result"
    }
   ],
   "source": [
    "sequence_35[:] = 0\n",
    "sequence_9"
   ]
  },
  {
   "cell_type": "markdown",
   "metadata": {},
   "source": [
    "**Note**: To copy a slice of an ndarray instead of view, we need to explicitly copy the array by using **array_name.copy()**"
   ]
  },
  {
   "cell_type": "code",
   "execution_count": 11,
   "metadata": {},
   "outputs": [
    {
     "data": {
      "text/plain": [
       "array([0, 1, 2], dtype=int32)"
      ]
     },
     "execution_count": 11,
     "metadata": {},
     "output_type": "execute_result"
    }
   ],
   "source": [
    "one_dim_array"
   ]
  },
  {
   "cell_type": "code",
   "execution_count": 12,
   "metadata": {},
   "outputs": [
    {
     "data": {
      "text/plain": [
       "2"
      ]
     },
     "execution_count": 12,
     "metadata": {},
     "output_type": "execute_result"
    }
   ],
   "source": [
    "one_dim_array[2]"
   ]
  },
  {
   "cell_type": "markdown",
   "metadata": {},
   "source": [
    "**Two dimensional array**: In two-dimensional array the elements at each index are not scalars but one-dimensional array. The individual elements can be accessed recursively. We can pass a comma-seperated list of indices to select individual elements. We can think axis 0 as the _rows_ of the array and axis 1 as the _columns_."
   ]
  },
  {
   "cell_type": "markdown",
   "metadata": {},
   "source": [
    "                                Axis 1\n",
    "                      \n",
    "\n",
    "                             |0|    |1|    |2|\n",
    "                    \n",
    "                     |0|     |0,0|  |0,1|  |0,2|                \n",
    "    Axis 0\n",
    "                     |1|     |1,0|  |1,1|  |1,2|\n",
    "                    \n",
    "                     |2|     |2,0|  |2,1|  |2,2|\n",
    "                     \n",
    "Figure: 1.1 Indexing elements in a Numpy array"
   ]
  },
  {
   "cell_type": "code",
   "execution_count": 116,
   "metadata": {},
   "outputs": [
    {
     "data": {
      "text/plain": [
       "array([[56, 77, 99],\n",
       "       [59, 84, 92],\n",
       "       [50, 68, 97]])"
      ]
     },
     "execution_count": 116,
     "metadata": {},
     "output_type": "execute_result"
    }
   ],
   "source": [
    "marks = np.array([[56,77,99],[59,84,92],[50,68,97]])\n",
    "marks"
   ]
  },
  {
   "cell_type": "code",
   "execution_count": 117,
   "metadata": {},
   "outputs": [
    {
     "data": {
      "text/plain": [
       "array([59, 84, 92])"
      ]
     },
     "execution_count": 117,
     "metadata": {},
     "output_type": "execute_result"
    }
   ],
   "source": [
    "marks[1]  # retrieve all elements from row 1."
   ]
  },
  {
   "cell_type": "code",
   "execution_count": 118,
   "metadata": {},
   "outputs": [
    {
     "data": {
      "text/plain": [
       "99"
      ]
     },
     "execution_count": 118,
     "metadata": {},
     "output_type": "execute_result"
    }
   ],
   "source": [
    "marks[0][2] # get element with index 0 and 2. i.e. 0 row and 2 column vlaues."
   ]
  },
  {
   "cell_type": "code",
   "execution_count": 119,
   "metadata": {},
   "outputs": [
    {
     "data": {
      "text/plain": [
       "99"
      ]
     },
     "execution_count": 119,
     "metadata": {},
     "output_type": "execute_result"
    }
   ],
   "source": [
    "marks[0,2] # get element with index 0 and 2. i.e. 0 row and 2 column vlaues."
   ]
  },
  {
   "cell_type": "code",
   "execution_count": 13,
   "metadata": {},
   "outputs": [
    {
     "data": {
      "text/plain": [
       "array([[0, 1, 2],\n",
       "       [3, 4, 5]], dtype=int32)"
      ]
     },
     "execution_count": 13,
     "metadata": {},
     "output_type": "execute_result"
    }
   ],
   "source": [
    "two_dim_array"
   ]
  },
  {
   "cell_type": "code",
   "execution_count": 14,
   "metadata": {},
   "outputs": [
    {
     "data": {
      "text/plain": [
       "1"
      ]
     },
     "execution_count": 14,
     "metadata": {},
     "output_type": "execute_result"
    }
   ],
   "source": [
    "two_dim_array[0,1]"
   ]
  },
  {
   "cell_type": "code",
   "execution_count": 15,
   "metadata": {},
   "outputs": [
    {
     "data": {
      "text/plain": [
       "5"
      ]
     },
     "execution_count": 15,
     "metadata": {},
     "output_type": "execute_result"
    }
   ],
   "source": [
    "two_dim_array[1,2]"
   ]
  },
  {
   "cell_type": "code",
   "execution_count": 16,
   "metadata": {},
   "outputs": [
    {
     "data": {
      "text/plain": [
       "array([[0, 1, 2],\n",
       "       [3, 4, 5]], dtype=int32)"
      ]
     },
     "execution_count": 16,
     "metadata": {},
     "output_type": "execute_result"
    }
   ],
   "source": [
    "two_dim_array[0:2]"
   ]
  },
  {
   "cell_type": "code",
   "execution_count": 17,
   "metadata": {},
   "outputs": [
    {
     "data": {
      "text/plain": [
       "array([[3, 4, 5]], dtype=int32)"
      ]
     },
     "execution_count": 17,
     "metadata": {},
     "output_type": "execute_result"
    }
   ],
   "source": [
    "two_dim_array[1:2]"
   ]
  },
  {
   "cell_type": "code",
   "execution_count": 18,
   "metadata": {},
   "outputs": [
    {
     "data": {
      "text/plain": [
       "array([0, 1, 2], dtype=int32)"
      ]
     },
     "execution_count": 18,
     "metadata": {},
     "output_type": "execute_result"
    }
   ],
   "source": [
    "two_dim_array[0,:]"
   ]
  },
  {
   "cell_type": "code",
   "execution_count": 19,
   "metadata": {},
   "outputs": [
    {
     "data": {
      "text/plain": [
       "array([3, 4, 5], dtype=int32)"
      ]
     },
     "execution_count": 19,
     "metadata": {},
     "output_type": "execute_result"
    }
   ],
   "source": [
    "two_dim_array[1,:]"
   ]
  },
  {
   "cell_type": "code",
   "execution_count": 20,
   "metadata": {},
   "outputs": [
    {
     "data": {
      "text/plain": [
       "array([0, 1], dtype=int32)"
      ]
     },
     "execution_count": 20,
     "metadata": {},
     "output_type": "execute_result"
    }
   ],
   "source": [
    "two_dim_array[0,0:2]"
   ]
  },
  {
   "cell_type": "code",
   "execution_count": 21,
   "metadata": {},
   "outputs": [
    {
     "data": {
      "text/plain": [
       "array([4, 5], dtype=int32)"
      ]
     },
     "execution_count": 21,
     "metadata": {},
     "output_type": "execute_result"
    }
   ],
   "source": [
    "two_dim_array[1,1:3]"
   ]
  },
  {
   "cell_type": "code",
   "execution_count": 22,
   "metadata": {},
   "outputs": [
    {
     "data": {
      "text/plain": [
       "array([[1],\n",
       "       [4]], dtype=int32)"
      ]
     },
     "execution_count": 22,
     "metadata": {},
     "output_type": "execute_result"
    }
   ],
   "source": [
    "two_dim_array[:,1:2]"
   ]
  },
  {
   "cell_type": "code",
   "execution_count": 23,
   "metadata": {},
   "outputs": [
    {
     "data": {
      "text/plain": [
       "array([[1, 2],\n",
       "       [4, 5]], dtype=int32)"
      ]
     },
     "execution_count": 23,
     "metadata": {},
     "output_type": "execute_result"
    }
   ],
   "source": [
    "two_dim_array[:,1:3]"
   ]
  },
  {
   "cell_type": "markdown",
   "metadata": {},
   "source": [
    "**Three dimensional array**:"
   ]
  },
  {
   "cell_type": "code",
   "execution_count": 134,
   "metadata": {},
   "outputs": [
    {
     "data": {
      "text/plain": [
       "array([[[10, 25, 45],\n",
       "        [15, 28, 48],\n",
       "        [19, 21, 35]],\n",
       "\n",
       "       [[11, 23, 65],\n",
       "        [12, 25, 45],\n",
       "        [16, 20, 42]]])"
      ]
     },
     "execution_count": 134,
     "metadata": {},
     "output_type": "execute_result"
    }
   ],
   "source": [
    "chair = np.array([[[10,25,45],[15,28,48],[19,21,35]], [[11,23,65],[12,25,45],[16,20,42]]])\n",
    "chair"
   ]
  },
  {
   "cell_type": "code",
   "execution_count": 135,
   "metadata": {},
   "outputs": [
    {
     "data": {
      "text/plain": [
       "array([[10, 25, 45],\n",
       "       [15, 28, 48],\n",
       "       [19, 21, 35]])"
      ]
     },
     "execution_count": 135,
     "metadata": {},
     "output_type": "execute_result"
    }
   ],
   "source": [
    "chair[0]"
   ]
  },
  {
   "cell_type": "code",
   "execution_count": 136,
   "metadata": {},
   "outputs": [
    {
     "data": {
      "text/plain": [
       "(2, 3, 3)"
      ]
     },
     "execution_count": 136,
     "metadata": {},
     "output_type": "execute_result"
    }
   ],
   "source": [
    "chair.shape  # The dimension of chair array is 2x3x3. i.e 2 depth 3 rows 3 columns."
   ]
  },
  {
   "cell_type": "markdown",
   "metadata": {},
   "source": [
    "We can assign both scalar values and arrays to higher dimension array."
   ]
  },
  {
   "cell_type": "code",
   "execution_count": 137,
   "metadata": {},
   "outputs": [
    {
     "data": {
      "text/plain": [
       "array([[[22, 22, 22],\n",
       "        [22, 22, 22],\n",
       "        [22, 22, 22]],\n",
       "\n",
       "       [[11, 23, 65],\n",
       "        [12, 25, 45],\n",
       "        [16, 20, 42]]])"
      ]
     },
     "execution_count": 137,
     "metadata": {},
     "output_type": "execute_result"
    }
   ],
   "source": [
    "chair_update = chair[0].copy()\n",
    "chair[0] = 22\n",
    "chair"
   ]
  },
  {
   "cell_type": "code",
   "execution_count": 138,
   "metadata": {},
   "outputs": [
    {
     "data": {
      "text/plain": [
       "array([[10, 25, 45],\n",
       "       [15, 28, 48],\n",
       "       [19, 21, 35]])"
      ]
     },
     "execution_count": 138,
     "metadata": {},
     "output_type": "execute_result"
    }
   ],
   "source": [
    "chair_update"
   ]
  },
  {
   "cell_type": "code",
   "execution_count": 139,
   "metadata": {},
   "outputs": [
    {
     "data": {
      "text/plain": [
       "array([[[10, 25, 45],\n",
       "        [15, 28, 48],\n",
       "        [19, 21, 35]],\n",
       "\n",
       "       [[11, 23, 65],\n",
       "        [12, 25, 45],\n",
       "        [16, 20, 42]]])"
      ]
     },
     "execution_count": 139,
     "metadata": {},
     "output_type": "execute_result"
    }
   ],
   "source": [
    "chair[0] = chair_update\n",
    "chair"
   ]
  },
  {
   "cell_type": "code",
   "execution_count": 140,
   "metadata": {},
   "outputs": [
    {
     "data": {
      "text/plain": [
       "array([15, 28, 48])"
      ]
     },
     "execution_count": 140,
     "metadata": {},
     "output_type": "execute_result"
    }
   ],
   "source": [
    "chair[0,1] # retrieve 0 element's 1st row. "
   ]
  },
  {
   "cell_type": "code",
   "execution_count": 143,
   "metadata": {},
   "outputs": [
    {
     "data": {
      "text/plain": [
       "28"
      ]
     },
     "execution_count": 143,
     "metadata": {},
     "output_type": "execute_result"
    }
   ],
   "source": [
    "chair[0][1]"
   ]
  },
  {
   "cell_type": "code",
   "execution_count": 144,
   "metadata": {},
   "outputs": [
    {
     "data": {
      "text/plain": [
       "48"
      ]
     },
     "execution_count": 144,
     "metadata": {},
     "output_type": "execute_result"
    }
   ],
   "source": [
    "chair[0][1][2] # retrieve 0 element's 1st row 2nd column value"
   ]
  },
  {
   "cell_type": "markdown",
   "metadata": {},
   "source": [
    "#### 1.9 Advance Indexing with slicing\n",
    "ndarrays can be sliced similiar to Python lists."
   ]
  },
  {
   "cell_type": "code",
   "execution_count": 145,
   "metadata": {},
   "outputs": [
    {
     "data": {
      "text/plain": [
       "array([ 0,  1,  2,  3,  4,  5,  6,  7,  8,  9, 10, 11, 12, 13, 14, 15, 16,\n",
       "       17, 18, 19, 20, 21, 22, 23, 24, 25, 26, 27, 28, 29])"
      ]
     },
     "execution_count": 145,
     "metadata": {},
     "output_type": "execute_result"
    }
   ],
   "source": [
    "temp_num = np.arange(30)\n",
    "temp_num"
   ]
  },
  {
   "cell_type": "code",
   "execution_count": 146,
   "metadata": {},
   "outputs": [
    {
     "data": {
      "text/plain": [
       "array([5, 6, 7, 8, 9])"
      ]
     },
     "execution_count": 146,
     "metadata": {},
     "output_type": "execute_result"
    }
   ],
   "source": [
    "temp_num[5:10]   # get elements starting index 5 to 9. (10-1)"
   ]
  },
  {
   "cell_type": "code",
   "execution_count": 147,
   "metadata": {},
   "outputs": [
    {
     "data": {
      "text/plain": [
       "array([[ 1,  2,  3],\n",
       "       [ 7,  8,  9],\n",
       "       [10,  5,  2]])"
      ]
     },
     "execution_count": 147,
     "metadata": {},
     "output_type": "execute_result"
    }
   ],
   "source": [
    "temp_num_2d = np.array([[1,2,3],[7,8,9],[10,5,2]])\n",
    "temp_num_2d"
   ]
  },
  {
   "cell_type": "markdown",
   "metadata": {},
   "source": [
    "In the example below, in 2d array it sliced along axis 0, the first axis. The slice selects a range of elements along an axis. We can read the expression `temp_num_2d[:2]` as \"select the first two rows from the array\"."
   ]
  },
  {
   "cell_type": "code",
   "execution_count": 148,
   "metadata": {},
   "outputs": [
    {
     "data": {
      "text/plain": [
       "array([[1, 2, 3],\n",
       "       [7, 8, 9]])"
      ]
     },
     "execution_count": 148,
     "metadata": {},
     "output_type": "execute_result"
    }
   ],
   "source": [
    "temp_num_2d[:2] "
   ]
  },
  {
   "cell_type": "code",
   "execution_count": 149,
   "metadata": {},
   "outputs": [
    {
     "data": {
      "text/plain": [
       "array([[2, 3],\n",
       "       [8, 9]])"
      ]
     },
     "execution_count": 149,
     "metadata": {},
     "output_type": "execute_result"
    }
   ],
   "source": [
    "temp_num_2d[:2,1:] # select all elements upto (2-1) i.e. 0 & 1 row and all columns except 1st column."
   ]
  },
  {
   "cell_type": "markdown",
   "metadata": {},
   "source": [
    "**Note**: When we use slicing shown above, we'll always get the array views of the same number of dimensions. When we mix integer indexes and slice then we'll get lower dimensional slices."
   ]
  },
  {
   "cell_type": "code",
   "execution_count": 150,
   "metadata": {},
   "outputs": [
    {
     "data": {
      "text/plain": [
       "array([7, 8])"
      ]
     },
     "execution_count": 150,
     "metadata": {},
     "output_type": "execute_result"
    }
   ],
   "source": [
    "temp_num_2d[1,:2]"
   ]
  },
  {
   "cell_type": "code",
   "execution_count": 153,
   "metadata": {},
   "outputs": [
    {
     "data": {
      "text/plain": [
       "array([3, 9])"
      ]
     },
     "execution_count": 153,
     "metadata": {},
     "output_type": "execute_result"
    }
   ],
   "source": [
    "temp_num_2d[:2,2]"
   ]
  },
  {
   "cell_type": "markdown",
   "metadata": {},
   "source": [
    "Colon indicate to retrieve an entire axis."
   ]
  },
  {
   "cell_type": "code",
   "execution_count": 155,
   "metadata": {},
   "outputs": [
    {
     "data": {
      "text/plain": [
       "array([[ 1],\n",
       "       [ 7],\n",
       "       [10]])"
      ]
     },
     "execution_count": 155,
     "metadata": {},
     "output_type": "execute_result"
    }
   ],
   "source": [
    "temp_num_2d[:,:1]"
   ]
  },
  {
   "cell_type": "markdown",
   "metadata": {},
   "source": [
    "When we assign to a slice expression it will assign to the whole selection."
   ]
  },
  {
   "cell_type": "code",
   "execution_count": 157,
   "metadata": {},
   "outputs": [
    {
     "data": {
      "text/plain": [
       "array([1, 2])"
      ]
     },
     "execution_count": 157,
     "metadata": {},
     "output_type": "execute_result"
    }
   ],
   "source": [
    "temp_num_2d[0,:2]"
   ]
  },
  {
   "cell_type": "code",
   "execution_count": 158,
   "metadata": {},
   "outputs": [
    {
     "data": {
      "text/plain": [
       "array([[55, 55,  3],\n",
       "       [ 7,  8,  9],\n",
       "       [10,  5,  2]])"
      ]
     },
     "execution_count": 158,
     "metadata": {},
     "output_type": "execute_result"
    }
   ],
   "source": [
    "temp_num_2d[0,:2] = 55\n",
    "temp_num_2d"
   ]
  },
  {
   "cell_type": "markdown",
   "metadata": {},
   "source": [
    "#### 1.10 Boolean Indexing\n",
    "Boolean indexing will always create a copy of the data when selecting from an array."
   ]
  },
  {
   "cell_type": "markdown",
   "metadata": {},
   "source": [
    "In this example, we'll use two array, one with string type and other with numeric type. Let's suppose each name in the first array corresponds to a row in the second array. Our requirement is to select all the row that correspond the name 'Jacky'. We'll use boolean indexing to filter the records that only consists the name 'Jacky'."
   ]
  },
  {
   "cell_type": "code",
   "execution_count": 172,
   "metadata": {},
   "outputs": [
    {
     "data": {
      "text/plain": [
       "array(['Harry', 'Bobby', 'Jacky', 'Pat', 'Jacky', 'John'], dtype='<U5')"
      ]
     },
     "execution_count": 172,
     "metadata": {},
     "output_type": "execute_result"
    }
   ],
   "source": [
    "users = np.array(['Harry', 'Bobby', 'Jacky','Pat', 'Jacky','John'])\n",
    "users"
   ]
  },
  {
   "cell_type": "code",
   "execution_count": 173,
   "metadata": {},
   "outputs": [
    {
     "data": {
      "text/plain": [
       "array([[68, 86, 57, 59, 81],\n",
       "       [69, 65, 85, 93, 58],\n",
       "       [59, 80, 79, 85, 81],\n",
       "       [75, 57, 78, 84, 92],\n",
       "       [94, 67, 55, 60, 85],\n",
       "       [80, 94, 56, 87, 99]])"
      ]
     },
     "execution_count": 173,
     "metadata": {},
     "output_type": "execute_result"
    }
   ],
   "source": [
    "amount = np.random.randint(55, high=100, size=(6,5))\n",
    "amount"
   ]
  },
  {
   "cell_type": "code",
   "execution_count": 174,
   "metadata": {},
   "outputs": [
    {
     "data": {
      "text/plain": [
       "array([False, False,  True, False,  True, False])"
      ]
     },
     "execution_count": 174,
     "metadata": {},
     "output_type": "execute_result"
    }
   ],
   "source": [
    "users == 'Jacky'   # comparision operation"
   ]
  },
  {
   "cell_type": "markdown",
   "metadata": {},
   "source": [
    "We can pass the boolean array when indexing the array."
   ]
  },
  {
   "cell_type": "code",
   "execution_count": 175,
   "metadata": {},
   "outputs": [
    {
     "data": {
      "text/plain": [
       "array([[59, 80, 79, 85, 81],\n",
       "       [94, 67, 55, 60, 85]])"
      ]
     },
     "execution_count": 175,
     "metadata": {},
     "output_type": "execute_result"
    }
   ],
   "source": [
    "amount[users == 'Jacky']"
   ]
  },
  {
   "cell_type": "markdown",
   "metadata": {},
   "source": [
    "We can also pass boolean array as well as index the column too."
   ]
  },
  {
   "cell_type": "code",
   "execution_count": 177,
   "metadata": {},
   "outputs": [
    {
     "data": {
      "text/plain": [
       "array([85, 60])"
      ]
     },
     "execution_count": 177,
     "metadata": {},
     "output_type": "execute_result"
    }
   ],
   "source": [
    "amount[users == 'Jacky',3]"
   ]
  },
  {
   "cell_type": "markdown",
   "metadata": {},
   "source": [
    "Now, we'll select all except 'Jacky'"
   ]
  },
  {
   "cell_type": "code",
   "execution_count": 178,
   "metadata": {},
   "outputs": [
    {
     "data": {
      "text/plain": [
       "array([ True,  True, False,  True, False,  True])"
      ]
     },
     "execution_count": 178,
     "metadata": {},
     "output_type": "execute_result"
    }
   ],
   "source": [
    "users != 'Jacky'"
   ]
  },
  {
   "cell_type": "code",
   "execution_count": 180,
   "metadata": {},
   "outputs": [
    {
     "data": {
      "text/plain": [
       "array([[68, 86, 57, 59, 81],\n",
       "       [69, 65, 85, 93, 58],\n",
       "       [75, 57, 78, 84, 92],\n",
       "       [80, 94, 56, 87, 99]])"
      ]
     },
     "execution_count": 180,
     "metadata": {},
     "output_type": "execute_result"
    }
   ],
   "source": [
    "amount[~(users == 'Jacky')]"
   ]
  },
  {
   "cell_type": "markdown",
   "metadata": {},
   "source": [
    "We can uses `~` (not) operator if we want to invert the condition."
   ]
  },
  {
   "cell_type": "code",
   "execution_count": 181,
   "metadata": {},
   "outputs": [],
   "source": [
    "only_bob = users == 'Jacky'"
   ]
  },
  {
   "cell_type": "code",
   "execution_count": 182,
   "metadata": {},
   "outputs": [
    {
     "data": {
      "text/plain": [
       "array([[68, 86, 57, 59, 81],\n",
       "       [69, 65, 85, 93, 58],\n",
       "       [75, 57, 78, 84, 92],\n",
       "       [80, 94, 56, 87, 99]])"
      ]
     },
     "execution_count": 182,
     "metadata": {},
     "output_type": "execute_result"
    }
   ],
   "source": [
    "amount[~only_bob]"
   ]
  },
  {
   "cell_type": "markdown",
   "metadata": {},
   "source": [
    "We can combine multiple boolean conditions and use boolean arithmentic operators like `&` (and) and `|` (or) to filter the data elements."
   ]
  },
  {
   "cell_type": "code",
   "execution_count": 183,
   "metadata": {},
   "outputs": [
    {
     "data": {
      "text/plain": [
       "array([ True, False, False,  True, False, False])"
      ]
     },
     "execution_count": 183,
     "metadata": {},
     "output_type": "execute_result"
    }
   ],
   "source": [
    "harry_pat = (users == 'Harry') | (users == 'Pat')\n",
    "harry_pat"
   ]
  },
  {
   "cell_type": "code",
   "execution_count": 184,
   "metadata": {},
   "outputs": [
    {
     "data": {
      "text/plain": [
       "array([[68, 86, 57, 59, 81],\n",
       "       [75, 57, 78, 84, 92]])"
      ]
     },
     "execution_count": 184,
     "metadata": {},
     "output_type": "execute_result"
    }
   ],
   "source": [
    "amount[harry_pat]"
   ]
  },
  {
   "cell_type": "markdown",
   "metadata": {},
   "source": [
    "**Note**: Python keywords `and` and `or` won't works with boolean array, always use `&` and `|`."
   ]
  },
  {
   "cell_type": "markdown",
   "metadata": {},
   "source": [
    "Boolean array can also be used to set the values."
   ]
  },
  {
   "cell_type": "code",
   "execution_count": 185,
   "metadata": {},
   "outputs": [
    {
     "data": {
      "text/plain": [
       "array([[ 0, 86,  0,  0,  0],\n",
       "       [ 0,  0, 85, 93,  0],\n",
       "       [ 0,  0,  0, 85,  0],\n",
       "       [ 0,  0,  0,  0, 92],\n",
       "       [94,  0,  0,  0, 85],\n",
       "       [ 0, 94,  0, 87, 99]])"
      ]
     },
     "execution_count": 185,
     "metadata": {},
     "output_type": "execute_result"
    }
   ],
   "source": [
    "amount[amount < 85] = 0\n",
    "amount"
   ]
  },
  {
   "cell_type": "code",
   "execution_count": 187,
   "metadata": {},
   "outputs": [
    {
     "data": {
      "text/plain": [
       "array([[100, 100, 100, 100, 100],\n",
       "       [100, 100, 100, 100, 100],\n",
       "       [  0,   0,   0,  85,   0],\n",
       "       [100, 100, 100, 100, 100],\n",
       "       [ 94,   0,   0,   0,  85],\n",
       "       [100, 100, 100, 100, 100]])"
      ]
     },
     "execution_count": 187,
     "metadata": {},
     "output_type": "execute_result"
    }
   ],
   "source": [
    "amount[users != 'Jacky'] = 100\n",
    "amount"
   ]
  },
  {
   "cell_type": "markdown",
   "metadata": {},
   "source": [
    "#### 1.11 Fancy Indexing\n",
    "Numpy uses fancy indexing to index by using integer arrays."
   ]
  },
  {
   "cell_type": "code",
   "execution_count": 191,
   "metadata": {},
   "outputs": [
    {
     "data": {
      "text/plain": [
       "array([[4, 1, 1, 2, 2],\n",
       "       [4, 2, 4, 3, 1],\n",
       "       [1, 1, 0, 3, 2],\n",
       "       [2, 3, 1, 0, 1],\n",
       "       [4, 0, 2, 1, 0],\n",
       "       [0, 4, 1, 3, 0],\n",
       "       [1, 4, 3, 2, 4],\n",
       "       [4, 4, 2, 1, 0],\n",
       "       [3, 2, 4, 3, 1],\n",
       "       [2, 1, 1, 3, 4]])"
      ]
     },
     "execution_count": 191,
     "metadata": {},
     "output_type": "execute_result"
    }
   ],
   "source": [
    "temp_array = np.random.randint(5,size = (10,5))\n",
    "temp_array"
   ]
  },
  {
   "cell_type": "code",
   "execution_count": 192,
   "metadata": {},
   "outputs": [
    {
     "data": {
      "text/plain": [
       "array([[4, 1, 1, 2, 2],\n",
       "       [2, 1, 1, 3, 4],\n",
       "       [4, 2, 4, 3, 1],\n",
       "       [3, 2, 4, 3, 1],\n",
       "       [4, 1, 1, 2, 2]])"
      ]
     },
     "execution_count": 192,
     "metadata": {},
     "output_type": "execute_result"
    }
   ],
   "source": [
    "temp_array[[0,9,1,8,0]]   # select row in the order of 0,9,1,8,0."
   ]
  },
  {
   "cell_type": "markdown",
   "metadata": {},
   "source": [
    "#### 1.12 Transposing Arrays and Swapping Axes\n",
    "Transposing is used to reshape the data which will return a view on the underlying data without copying anything. Array has `transpose` method and `T` attribute to transpose the array."
   ]
  },
  {
   "cell_type": "code",
   "execution_count": 196,
   "metadata": {},
   "outputs": [
    {
     "data": {
      "text/plain": [
       "array([[ 0,  1],\n",
       "       [ 2,  3],\n",
       "       [ 4,  5],\n",
       "       [ 6,  7],\n",
       "       [ 8,  9],\n",
       "       [10, 11],\n",
       "       [12, 13],\n",
       "       [14, 15],\n",
       "       [16, 17],\n",
       "       [18, 19]])"
      ]
     },
     "execution_count": 196,
     "metadata": {},
     "output_type": "execute_result"
    }
   ],
   "source": [
    "temp_array = np.arange(20).reshape(10,2)\n",
    "temp_array"
   ]
  },
  {
   "cell_type": "code",
   "execution_count": 197,
   "metadata": {},
   "outputs": [
    {
     "data": {
      "text/plain": [
       "array([[ 0,  2,  4,  6,  8, 10, 12, 14, 16, 18],\n",
       "       [ 1,  3,  5,  7,  9, 11, 13, 15, 17, 19]])"
      ]
     },
     "execution_count": 197,
     "metadata": {},
     "output_type": "execute_result"
    }
   ],
   "source": [
    "temp_array.T"
   ]
  },
  {
   "cell_type": "code",
   "execution_count": 200,
   "metadata": {},
   "outputs": [
    {
     "data": {
      "text/plain": [
       "array([[ 0,  2,  4,  6,  8, 10, 12, 14, 16, 18],\n",
       "       [ 1,  3,  5,  7,  9, 11, 13, 15, 17, 19]])"
      ]
     },
     "execution_count": 200,
     "metadata": {},
     "output_type": "execute_result"
    }
   ],
   "source": [
    "np.transpose(temp_array)"
   ]
  },
  {
   "cell_type": "markdown",
   "metadata": {},
   "source": [
    "`swapaxes` is a ndarray method that takes a pair of axis numbers and switches the indicated axes to rearrange the data elements. It returns a view on the data without making a copy."
   ]
  },
  {
   "cell_type": "code",
   "execution_count": 210,
   "metadata": {},
   "outputs": [
    {
     "data": {
      "text/plain": [
       "array([[ 0,  2,  4,  6,  8, 10, 12, 14, 16, 18],\n",
       "       [ 1,  3,  5,  7,  9, 11, 13, 15, 17, 19]])"
      ]
     },
     "execution_count": 210,
     "metadata": {},
     "output_type": "execute_result"
    }
   ],
   "source": [
    "temp_array.swapaxes(0,1)  # swap element between axes 0 and axes 1."
   ]
  },
  {
   "cell_type": "markdown",
   "metadata": {},
   "source": [
    "#### 1.13 Universal Functions\n",
    "A universal functions or **`ufunc`** is a function that performs element-wise operations on data in ndarrays. It can be called as fast vectorized wrappers for simple functions that take one or more scalar values and product one or more scalar results. **unfunc** are simple element-wise transformations such as sqrt, exp etc. They are called `unary` unfuncs. Other function that takes two arrays such as add, maximum etc are known as `binary` unfuncs that returns a single array as the output result."
   ]
  },
  {
   "cell_type": "code",
   "execution_count": 211,
   "metadata": {},
   "outputs": [
    {
     "data": {
      "text/plain": [
       "array([0.        , 1.        , 1.41421356, 1.73205081, 2.        ])"
      ]
     },
     "execution_count": 211,
     "metadata": {},
     "output_type": "execute_result"
    }
   ],
   "source": [
    "seq_num = np.arange(5)\n",
    "np.sqrt(seq_num)"
   ]
  },
  {
   "cell_type": "code",
   "execution_count": 212,
   "metadata": {},
   "outputs": [
    {
     "data": {
      "text/plain": [
       "array([ 1.        ,  2.71828183,  7.3890561 , 20.08553692, 54.59815003])"
      ]
     },
     "execution_count": 212,
     "metadata": {},
     "output_type": "execute_result"
    }
   ],
   "source": [
    "np.exp(seq_num)"
   ]
  },
  {
   "cell_type": "code",
   "execution_count": 214,
   "metadata": {},
   "outputs": [],
   "source": [
    "score_1 = np.random.randn(10)\n",
    "score_2 = np.random.randn(10)"
   ]
  },
  {
   "cell_type": "code",
   "execution_count": 215,
   "metadata": {},
   "outputs": [
    {
     "data": {
      "text/plain": [
       "array([ 0.62824776,  1.93676184,  0.62611487,  0.15513952, -0.75042867,\n",
       "        0.75877395, -0.7013509 , -0.10048266, -1.60660864, -0.02818735])"
      ]
     },
     "execution_count": 215,
     "metadata": {},
     "output_type": "execute_result"
    }
   ],
   "source": [
    "score_1"
   ]
  },
  {
   "cell_type": "code",
   "execution_count": 216,
   "metadata": {},
   "outputs": [
    {
     "data": {
      "text/plain": [
       "array([-0.39579281,  0.99820668, -1.99796783, -0.15547071,  1.46451355,\n",
       "       -0.45705179,  1.57908758,  0.47782595, -0.25416641, -0.93195779])"
      ]
     },
     "execution_count": 216,
     "metadata": {},
     "output_type": "execute_result"
    }
   ],
   "source": [
    "score_2"
   ]
  },
  {
   "cell_type": "code",
   "execution_count": 217,
   "metadata": {},
   "outputs": [
    {
     "data": {
      "text/plain": [
       "array([ 0.62824776,  1.93676184,  0.62611487,  0.15513952,  1.46451355,\n",
       "        0.75877395,  1.57908758,  0.47782595, -0.25416641, -0.02818735])"
      ]
     },
     "execution_count": 217,
     "metadata": {},
     "output_type": "execute_result"
    }
   ],
   "source": [
    "np.maximum(score_1, score_2)   # calculate the element-wise maximums between elements of score_1 and score_2."
   ]
  },
  {
   "cell_type": "markdown",
   "metadata": {},
   "source": [
    "Table 1.4: Unary unviersal functions\n",
    "\n",
    "| Function | Description |\n",
    "| -------- | -------- |\n",
    "| abs, fabs | Compute the absolute value element-wise for integer, floating point, or complex values |\n",
    "| sqrt | Compute the square root of each element, similar to array ** 0.5 |\n",
    "| square | Compute the square of each element, similar to array ** 2 |\n",
    "| exp | Compute the exponent $e^{x}$ of each elements |\n",
    "| log, log10, log2, log1p | Natural logarithm (base e), log base 10, log base 2 and log(1+x) resp. |\n",
    "| sign | Compute the sign of each elements: 1 (positive), 0 (zero), or -1 (negative) |\n",
    "| ceil | Compute the ceiling of each element (i.e. the smallest integer greater than or equal to that number) |\n",
    "| floor | Compute the floor of each element (i.e. the largest integer less than or equal to each element) |\n",
    "| rint | Round elements to the nearest integer, preserving the dytpe |\n",
    "| modf | Return fractional and integral parts of array as a separate array |\n",
    "| isnan | Return boolean array indicating whether each value is Nan (Not a Number) |\n",
    "| isfinite, isinf | Return boolean array indicating whether each element is finite (non-inf, non-NaN) or infinite resp. |\n",
    "| cos, cosh, sin, sinh, tan, tanh | Regular and hyperbolic trigonometric functions |\n",
    "| arccos, arccosh, arcsin, arcsinh, arctan, arctanh | Inverse trigonometric functions |\n",
    "| logical_not | Computer truth value of not x element-wise (similar to ~array) |"
   ]
  },
  {
   "cell_type": "markdown",
   "metadata": {},
   "source": [
    "Table 1.5: Binary universal functions  \n",
    "\n",
    "| Function | Description |\n",
    "| -------- | ------------ |\n",
    "| add | Add corresponding elements in arrays |\n",
    "| subtract | Subtract elements in second array from frist array |\n",
    "| multiply | Multiply array elements |\n",
    "| divide, floor_divide | Divide or floor divide (truncting the remainder) |\n",
    "| power | Raise elements in first array to powers indicated in second array |\n",
    "| maximum, fmax | Element-wise maximum; fmax ignores NaN |\n",
    "| minimun, fmin | Element-wise minimun; fmin ignores NaN |\n",
    "| mod | Element-wise modulus(remainer of division |\n",
    "| copysign | Copy sign of values in second argument to values in first argument |\n",
    "| greater, greater_equal, less, less_equal, equal, not_equal | Perform element-wise comparision that returns boolean array ( similar to infix operator >, >=, <, <=, ==, !=) |\n",
    "| logical_and, logical_or, logical_xor | Compute element-wise truth value of logical operation ( similar to infix operator &, \\| ^) |"
   ]
  },
  {
   "cell_type": "markdown",
   "metadata": {},
   "source": [
    "We can use aggregations functions like sum, mean, std etc either calling the array instance method or using the top-level NumPy function. mean and sum take an optional `axis` argument that computes the statistic over the given axis, resulting in an array with one fewer dimension."
   ]
  },
  {
   "cell_type": "markdown",
   "metadata": {},
   "source": [
    "Table 1.6: Array Statistical Methods \n",
    "\n",
    "| Method | Description |\n",
    "| ------ | ----------- |\n",
    "| sum | Sum of all the elements in the array or along an axis; zero-length arrays has sum 0 |\n",
    "| mean | Arithmetic mean; zero-length arrays have NaN mean |\n",
    "| std, var | Standard deviation and variance resp. with optional degrees of freedom adjustment (default denominator n) |\n",
    "| min, max | Minimum and maximum |\n",
    "| argmin, argmax | Indices of minimun and maximun elements resp. |\n",
    "| cumsum | Cumulative sum of elements starting from 0 |\n",
    "| cumprod | Cumulative product of elements starting from 1 |"
   ]
  },
  {
   "cell_type": "code",
   "execution_count": 218,
   "metadata": {},
   "outputs": [
    {
     "data": {
      "text/plain": [
       "array([[ 0,  1],\n",
       "       [ 2,  3],\n",
       "       [ 4,  5],\n",
       "       [ 6,  7],\n",
       "       [ 8,  9],\n",
       "       [10, 11],\n",
       "       [12, 13],\n",
       "       [14, 15],\n",
       "       [16, 17],\n",
       "       [18, 19]])"
      ]
     },
     "execution_count": 218,
     "metadata": {},
     "output_type": "execute_result"
    }
   ],
   "source": [
    "temp_array"
   ]
  },
  {
   "cell_type": "code",
   "execution_count": 221,
   "metadata": {},
   "outputs": [
    {
     "data": {
      "text/plain": [
       "9.5"
      ]
     },
     "execution_count": 221,
     "metadata": {},
     "output_type": "execute_result"
    }
   ],
   "source": [
    "temp_array.mean()"
   ]
  },
  {
   "cell_type": "code",
   "execution_count": 222,
   "metadata": {},
   "outputs": [
    {
     "data": {
      "text/plain": [
       "9.5"
      ]
     },
     "execution_count": 222,
     "metadata": {},
     "output_type": "execute_result"
    }
   ],
   "source": [
    "np.mean(temp_array)"
   ]
  },
  {
   "cell_type": "code",
   "execution_count": 219,
   "metadata": {},
   "outputs": [
    {
     "data": {
      "text/plain": [
       "array([ 0.5,  2.5,  4.5,  6.5,  8.5, 10.5, 12.5, 14.5, 16.5, 18.5])"
      ]
     },
     "execution_count": 219,
     "metadata": {},
     "output_type": "execute_result"
    }
   ],
   "source": [
    "temp_array.mean(axis=1)"
   ]
  },
  {
   "cell_type": "code",
   "execution_count": 223,
   "metadata": {},
   "outputs": [
    {
     "data": {
      "text/plain": [
       "190"
      ]
     },
     "execution_count": 223,
     "metadata": {},
     "output_type": "execute_result"
    }
   ],
   "source": [
    "temp_array.sum()"
   ]
  },
  {
   "cell_type": "code",
   "execution_count": 224,
   "metadata": {},
   "outputs": [
    {
     "data": {
      "text/plain": [
       "array([ 90, 100])"
      ]
     },
     "execution_count": 224,
     "metadata": {},
     "output_type": "execute_result"
    }
   ],
   "source": [
    "temp_array.sum(axis=0)"
   ]
  },
  {
   "cell_type": "code",
   "execution_count": 225,
   "metadata": {},
   "outputs": [
    {
     "data": {
      "text/plain": [
       "array([ 0.5,  2.5,  4.5,  6.5,  8.5, 10.5, 12.5, 14.5, 16.5, 18.5])"
      ]
     },
     "execution_count": 225,
     "metadata": {},
     "output_type": "execute_result"
    }
   ],
   "source": [
    "temp_array.mean(1) # compute mean across the columns"
   ]
  },
  {
   "cell_type": "code",
   "execution_count": 226,
   "metadata": {},
   "outputs": [
    {
     "data": {
      "text/plain": [
       "array([ 90, 100])"
      ]
     },
     "execution_count": 226,
     "metadata": {},
     "output_type": "execute_result"
    }
   ],
   "source": [
    "temp_array.sum(0) # compute sum down the rows"
   ]
  },
  {
   "cell_type": "code",
   "execution_count": 227,
   "metadata": {},
   "outputs": [
    {
     "data": {
      "text/plain": [
       "array([  0,   1,   3,   6,  10,  15,  21,  28,  36,  45,  55,  66,  78,\n",
       "        91, 105, 120, 136, 153, 171, 190])"
      ]
     },
     "execution_count": 227,
     "metadata": {},
     "output_type": "execute_result"
    }
   ],
   "source": [
    "temp_array.cumsum()  # it will not aggregate but produce an array of the intermediate results."
   ]
  },
  {
   "cell_type": "code",
   "execution_count": 230,
   "metadata": {},
   "outputs": [
    {
     "data": {
      "text/plain": [
       "array([    4,    20,   120,   840,  6720, 60480])"
      ]
     },
     "execution_count": 230,
     "metadata": {},
     "output_type": "execute_result"
    }
   ],
   "source": [
    "temp_array[2:5].cumprod()"
   ]
  },
  {
   "cell_type": "markdown",
   "metadata": {},
   "source": [
    "#### 1.14 Methods for Boolean Arrays\n",
    "Boolean values are coerced to 1 (True) and 0 (False). `sum` is often used as a means of counting True values in  a boolean array. `any` and `all` are also used in boolean arrays. `any` checks if one or more values in an array is True. `all` checks if every value is True. `any` and `all` can be also be used with non-boolean arrays."
   ]
  },
  {
   "cell_type": "code",
   "execution_count": 233,
   "metadata": {},
   "outputs": [
    {
     "data": {
      "text/plain": [
       "array([ 0.18050338, -0.26763806, -0.61108349,  1.22295678,  0.75629351,\n",
       "        0.9760859 , -1.21064339, -1.90744511,  1.23391776, -0.73749851])"
      ]
     },
     "execution_count": 233,
     "metadata": {},
     "output_type": "execute_result"
    }
   ],
   "source": [
    "rand_num = np.random.randn(10)\n",
    "rand_num"
   ]
  },
  {
   "cell_type": "code",
   "execution_count": 234,
   "metadata": {},
   "outputs": [
    {
     "data": {
      "text/plain": [
       "array([ True, False, False,  True,  True,  True, False, False,  True,\n",
       "       False])"
      ]
     },
     "execution_count": 234,
     "metadata": {},
     "output_type": "execute_result"
    }
   ],
   "source": [
    "rand_num >0"
   ]
  },
  {
   "cell_type": "code",
   "execution_count": 235,
   "metadata": {},
   "outputs": [
    {
     "data": {
      "text/plain": [
       "5"
      ]
     },
     "execution_count": 235,
     "metadata": {},
     "output_type": "execute_result"
    }
   ],
   "source": [
    "(rand_num>0).sum()  # calculate the total positive values"
   ]
  },
  {
   "cell_type": "code",
   "execution_count": 236,
   "metadata": {},
   "outputs": [
    {
     "data": {
      "text/plain": [
       "array([ True, False, False, False,  True,  True])"
      ]
     },
     "execution_count": 236,
     "metadata": {},
     "output_type": "execute_result"
    }
   ],
   "source": [
    "valid = np.array([True, False, False, False, True, True])\n",
    "valid"
   ]
  },
  {
   "cell_type": "code",
   "execution_count": 237,
   "metadata": {},
   "outputs": [
    {
     "data": {
      "text/plain": [
       "True"
      ]
     },
     "execution_count": 237,
     "metadata": {},
     "output_type": "execute_result"
    }
   ],
   "source": [
    "valid.any()"
   ]
  },
  {
   "cell_type": "code",
   "execution_count": 238,
   "metadata": {},
   "outputs": [
    {
     "data": {
      "text/plain": [
       "False"
      ]
     },
     "execution_count": 238,
     "metadata": {},
     "output_type": "execute_result"
    }
   ],
   "source": [
    "valid.all()"
   ]
  },
  {
   "cell_type": "markdown",
   "metadata": {},
   "source": [
    "#### 1.15 Sorting\n",
    "NumPy arrays can be sorted using `sort` method. `np.sort` return a sorted copy of an array instead of modifying the array in-place."
   ]
  },
  {
   "cell_type": "code",
   "execution_count": 240,
   "metadata": {},
   "outputs": [
    {
     "data": {
      "text/plain": [
       "array([ 0.00140888, -0.36303666,  0.70186779, -1.28337956,  0.42617945,\n",
       "       -0.00511888,  1.21809059, -0.8546204 , -0.0542071 , -0.20528876])"
      ]
     },
     "execution_count": 240,
     "metadata": {},
     "output_type": "execute_result"
    }
   ],
   "source": [
    "temp_rand = np.random.randn(10)\n",
    "temp_rand"
   ]
  },
  {
   "cell_type": "code",
   "execution_count": 241,
   "metadata": {},
   "outputs": [
    {
     "data": {
      "text/plain": [
       "array([-1.28337956, -0.8546204 , -0.36303666, -0.20528876, -0.0542071 ,\n",
       "       -0.00511888,  0.00140888,  0.42617945,  0.70186779,  1.21809059])"
      ]
     },
     "execution_count": 241,
     "metadata": {},
     "output_type": "execute_result"
    }
   ],
   "source": [
    "temp_rand.sort()\n",
    "temp_rand"
   ]
  },
  {
   "cell_type": "code",
   "execution_count": 243,
   "metadata": {},
   "outputs": [
    {
     "data": {
      "text/plain": [
       "array([[ 0.59895027,  1.99883311, -0.12275313, -0.55602504, -0.70353952],\n",
       "       [ 0.8502775 , -0.25563223,  0.14980086,  0.72144428, -0.45453843],\n",
       "       [ 0.44653561, -0.23201519,  1.13257405,  0.3705467 ,  1.49068238],\n",
       "       [-0.67187477, -1.06482131,  0.44855654, -0.33229752,  1.18286727],\n",
       "       [ 0.10668042, -0.46667648,  0.67360826,  0.92929984, -1.22288563],\n",
       "       [ 0.34314334, -1.13590688, -1.43647026,  1.52478647,  1.04329251]])"
      ]
     },
     "execution_count": 243,
     "metadata": {},
     "output_type": "execute_result"
    }
   ],
   "source": [
    "temp_rand_2d = np.random.randn(6,5)\n",
    "temp_rand_2d"
   ]
  },
  {
   "cell_type": "markdown",
   "metadata": {},
   "source": [
    "Multidimensional array can be sorted by passing the axis number to sort method."
   ]
  },
  {
   "cell_type": "code",
   "execution_count": 244,
   "metadata": {},
   "outputs": [
    {
     "data": {
      "text/plain": [
       "array([[-0.70353952, -0.55602504, -0.12275313,  0.59895027,  1.99883311],\n",
       "       [-0.45453843, -0.25563223,  0.14980086,  0.72144428,  0.8502775 ],\n",
       "       [-0.23201519,  0.3705467 ,  0.44653561,  1.13257405,  1.49068238],\n",
       "       [-1.06482131, -0.67187477, -0.33229752,  0.44855654,  1.18286727],\n",
       "       [-1.22288563, -0.46667648,  0.10668042,  0.67360826,  0.92929984],\n",
       "       [-1.43647026, -1.13590688,  0.34314334,  1.04329251,  1.52478647]])"
      ]
     },
     "execution_count": 244,
     "metadata": {},
     "output_type": "execute_result"
    }
   ],
   "source": [
    "temp_rand_2d.sort(1)\n",
    "temp_rand_2d"
   ]
  },
  {
   "cell_type": "markdown",
   "metadata": {},
   "source": [
    "#### 1.16 Set Logic\n",
    "Numpy has basic set operation for one-dimensional ndarrays. `np.unique` is used more frequently that returns the sorted unique values in an array."
   ]
  },
  {
   "cell_type": "code",
   "execution_count": 246,
   "metadata": {},
   "outputs": [
    {
     "data": {
      "text/plain": [
       "array(['Harry', 'Bobby', 'Jacky', 'Pat', 'Jacky', 'John'], dtype='<U5')"
      ]
     },
     "execution_count": 246,
     "metadata": {},
     "output_type": "execute_result"
    }
   ],
   "source": [
    "users"
   ]
  },
  {
   "cell_type": "code",
   "execution_count": 247,
   "metadata": {},
   "outputs": [
    {
     "data": {
      "text/plain": [
       "array(['Bobby', 'Harry', 'Jacky', 'John', 'Pat'], dtype='<U5')"
      ]
     },
     "execution_count": 247,
     "metadata": {},
     "output_type": "execute_result"
    }
   ],
   "source": [
    "np.unique(users)"
   ]
  },
  {
   "cell_type": "code",
   "execution_count": 248,
   "metadata": {},
   "outputs": [
    {
     "data": {
      "text/plain": [
       "array([50,  1, 45,  2,  3, 50,  1, 45, 42])"
      ]
     },
     "execution_count": 248,
     "metadata": {},
     "output_type": "execute_result"
    }
   ],
   "source": [
    "nums = np.array([50,1,45,2,3,50,1,45,42])\n",
    "nums"
   ]
  },
  {
   "cell_type": "code",
   "execution_count": 249,
   "metadata": {},
   "outputs": [
    {
     "data": {
      "text/plain": [
       "array([ 1,  2,  3, 42, 45, 50])"
      ]
     },
     "execution_count": 249,
     "metadata": {},
     "output_type": "execute_result"
    }
   ],
   "source": [
    "np.unique(nums)"
   ]
  },
  {
   "cell_type": "markdown",
   "metadata": {},
   "source": [
    "Table 1.7: Array set operations\n",
    "\n",
    "| Method | Description |\n",
    "| ------ | ----------- |\n",
    "| unique(x) | Compute the sorted, unique elements in x |\n",
    "| intersect1d(x,y) | Compute the sorted, common elements in x and y |\n",
    "| union1d(x,y) | Compute the sorted union of elements |\n",
    "| in1d(x,y) | Compute a boolean array indicating whether each element of x is contained in y |\n",
    "| setdiff1d(x,y) | Set difference, elements in x that are not in y |\n",
    "| setxor1d(x,y| Set symmetric difference; elements that are in either of the arrays, but not both |"
   ]
  },
  {
   "cell_type": "markdown",
   "metadata": {},
   "source": [
    "#### 1.17 Masked Arrays\n",
    "Masked array is the combination of a `ndarray` and a `mask`. A mask is either _`nomask`_ that indicates no value of the associated array is invalid, or an array of booleans that determines for each element of the associated array is either valid or or not valid. If an element of the mask is `True` then the corresponding element of the associated is said to be masked (invalid). If an element of the mask is `False` then the corresponding element of the associated array is said to be unmasked (valid). Masked array is the combination of:-\n",
    "* ndarray of any shape or datatype\n",
    "* boolean mask with the same shape\n",
    "* a **fill_value** i.e. a value used to replace the invalid entries for returning a standard ndarray.\n",
    "\n",
    "Masked Array are important for:-\n",
    "* When we want to preserve the values we masked for later processing, without copying the array.\n",
    "* When we have to handle many arrays, each with their own mask.\n",
    "* When we have different flgas for missing or invalid values. We want to preserve these flage without replacing  in the original dataset, but exclude from computations.\n",
    "* When we  can't avoid or eliminate missing values but don't want to deal with NaN values.\n",
    "\n",
    "`numpy.ma` module comes with specific implementation of `ufuncs` so we can apply fast vectorized functions and operations on masked data. The output will be a masked array."
   ]
  },
  {
   "cell_type": "code",
   "execution_count": 6,
   "metadata": {},
   "outputs": [
    {
     "data": {
      "text/plain": [
       "masked_array(data=[100, 230, 450, --],\n",
       "             mask=[False, False, False,  True],\n",
       "       fill_value=999999)"
      ]
     },
     "execution_count": 6,
     "metadata": {},
     "output_type": "execute_result"
    }
   ],
   "source": [
    "house_price = np.array([100, 230, 450, 10]) # price are on thousand, the last value seems to be outlier.\n",
    "\n",
    "import numpy.ma as ma\n",
    "msk_house_price = ma.masked_array(house_price, mask=[0,0,0,-1])\n",
    "msk_house_price"
   ]
  },
  {
   "cell_type": "markdown",
   "metadata": {},
   "source": [
    "#### 1.18 Array manipulation routines\n",
    "* np.meshgrid\n",
    "* np.sqrt\n",
    "* np.where\n",
    "* np.reshape\n",
    "\n",
    "\n",
    "[More on numpy routines](https://numpy.org/doc/stable/reference/routines.html)  \n",
    "[Some tutorials](https://medium.com/@mo000007/numpy-for-beginners-19d64e164df6)"
   ]
  }
 ],
 "metadata": {
  "kernelspec": {
   "display_name": "Python 3",
   "language": "python",
   "name": "python3"
  },
  "language_info": {
   "codemirror_mode": {
    "name": "ipython",
    "version": 3
   },
   "file_extension": ".py",
   "mimetype": "text/x-python",
   "name": "python",
   "nbconvert_exporter": "python",
   "pygments_lexer": "ipython3",
   "version": "3.7.3"
  }
 },
 "nbformat": 4,
 "nbformat_minor": 2
}
