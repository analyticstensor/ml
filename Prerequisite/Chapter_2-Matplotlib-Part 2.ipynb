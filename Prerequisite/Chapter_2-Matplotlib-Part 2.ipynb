{
 "cells": [
  {
   "cell_type": "markdown",
   "metadata": {},
   "source": [
    "# Chapter 2: Matplotlib (Part 2)"
   ]
  },
  {
   "cell_type": "markdown",
   "metadata": {},
   "source": [
    "#### 2.9 Identify correct visualization\n",
    "\n",
    "![Chart](https://extremepresentation.typepad.com/files/choosing-a-good-chart-09.pdf)\n",
    "\n",
    "**Self Reading**\n",
    "* [Selecting correct visualization](https://towardsdatascience.com/data-visualization-how-to-choose-the-right-chart-part-1-d4c550085ea7)"
   ]
  },
  {
   "cell_type": "markdown",
   "metadata": {},
   "source": [
    "#### 2.9 Plotting With Pandas and Seaborn"
   ]
  },
  {
   "cell_type": "markdown",
   "metadata": {},
   "source": [
    "We can create a plot such as line, bar, box, scatter, contour etc. with legend, title, tick labels using `pandas` and `seaborn`(statistical data visualization library).\n",
    "\n",
    "**Note**: When we import import seaborn, it will modifies the default matplotlibe color schemes and plot styles. It helps to imporve readability and aesthetics. Always import searborn to improve the visual aesthetics of general matplotlib plots."
   ]
  },
  {
   "cell_type": "markdown",
   "metadata": {},
   "source": [
    "#### 2.10 Line Plots\n",
    "In pandas Series and DataFrame has a `plot` attribute to create basic plots. By default, `plot()` create a line plots as shown in figure below.;"
   ]
  },
  {
   "cell_type": "code",
   "execution_count": 7,
   "metadata": {},
   "outputs": [],
   "source": [
    "import pandas as pd\n",
    "import numpy as np\n",
    "\n",
    "data_set = pd.Series(np.random.randn(20).cumsum(),index=np.arange(0,200,10))"
   ]
  },
  {
   "cell_type": "code",
   "execution_count": 8,
   "metadata": {},
   "outputs": [
    {
     "data": {
      "text/plain": [
       "<matplotlib.axes._subplots.AxesSubplot at 0x7fb2976466d8>"
      ]
     },
     "execution_count": 8,
     "metadata": {},
     "output_type": "execute_result"
    },
    {
     "data": {
      "image/png": "[encoded data removed]",
      "text/plain": [
       "<Figure size 432x288 with 1 Axes>"
      ]
     },
     "metadata": {
      "needs_background": "light"
     },
     "output_type": "display_data"
    }
   ],
   "source": [
    "data_set.plot()"
   ]
  },
  {
   "cell_type": "markdown",
   "metadata": {},
   "source": [
    "Figure 2.0: Simple Series plot"
   ]
  },
  {
   "cell_type": "markdown",
   "metadata": {},
   "source": [
    "Table 2.15: Series.plot method argumets\n",
    "\n",
    "| Arguments | Description |\n",
    "| --------- | ----------- |\n",
    "| label | Label for plot legend |\n",
    "| ax | matplotlib subplot on object to plot on; it uses active matplotlibe subplot, if nothing is passed |\n",
    "| style | Style string as shown in part 1 table |\n",
    "| alpha | The plot fill opacity, with range from 0 to 1 |\n",
    "| kind | Type of plot such as 'area', 'bar', barh', 'density', 'hist', 'kde', 'line, 'pie' |\n",
    "| logy | Use logarithmic scaling on the y-axis |\n",
    "| use_index | Use the object index for tick labels |\n",
    "| rot | Rotation of tick labels from 0 to 360 degree |\n",
    "| xticks | Value for x-axis ticks |\n",
    "| yticks | Value fo y-axis ticks |\n",
    "| xlim | x-axis limits |\n",
    "| ylim | y-axis limits |\n",
    "| grid | Display axis grid |\n",
    "\n",
    "[For more details](https://pandas.pydata.org/docs/reference/api/pandas.Series.plot.html#pandas-series-plot)"
   ]
  },
  {
   "cell_type": "markdown",
   "metadata": {},
   "source": [
    "DataFrame's `plot` method plots each of its columns as different line on the sameplot and it will automatically create legend. The figure below shows the DataFrame plot with two columns."
   ]
  },
  {
   "cell_type": "code",
   "execution_count": 19,
   "metadata": {},
   "outputs": [
    {
     "data": {
      "text/html": [
       "<div>\n",
       "<style scoped>\n",
       "    .dataframe tbody tr th:only-of-type {\n",
       "        vertical-align: middle;\n",
       "    }\n",
       "\n",
       "    .dataframe tbody tr th {\n",
       "        vertical-align: top;\n",
       "    }\n",
       "\n",
       "    .dataframe thead th {\n",
       "        text-align: right;\n",
       "    }\n",
       "</style>\n",
       "<table border=\"1\" class=\"dataframe\">\n",
       "  <thead>\n",
       "    <tr style=\"text-align: right;\">\n",
       "      <th></th>\n",
       "      <th>Agriculture</th>\n",
       "      <th>Housing</th>\n",
       "      <th>Health</th>\n",
       "      <th>Technology</th>\n",
       "    </tr>\n",
       "  </thead>\n",
       "  <tbody>\n",
       "    <tr>\n",
       "      <th>0</th>\n",
       "      <td>-0.955655</td>\n",
       "      <td>0.523911</td>\n",
       "      <td>0.155958</td>\n",
       "      <td>-0.065891</td>\n",
       "    </tr>\n",
       "    <tr>\n",
       "      <th>1</th>\n",
       "      <td>-0.364933</td>\n",
       "      <td>3.407179</td>\n",
       "      <td>-0.754990</td>\n",
       "      <td>0.250901</td>\n",
       "    </tr>\n",
       "    <tr>\n",
       "      <th>2</th>\n",
       "      <td>-1.010476</td>\n",
       "      <td>5.095879</td>\n",
       "      <td>-1.095517</td>\n",
       "      <td>2.064278</td>\n",
       "    </tr>\n",
       "    <tr>\n",
       "      <th>3</th>\n",
       "      <td>-0.818681</td>\n",
       "      <td>6.314868</td>\n",
       "      <td>-1.353585</td>\n",
       "      <td>0.351849</td>\n",
       "    </tr>\n",
       "    <tr>\n",
       "      <th>4</th>\n",
       "      <td>-0.731851</td>\n",
       "      <td>8.101088</td>\n",
       "      <td>-0.193452</td>\n",
       "      <td>0.388903</td>\n",
       "    </tr>\n",
       "    <tr>\n",
       "      <th>5</th>\n",
       "      <td>-1.200101</td>\n",
       "      <td>7.923055</td>\n",
       "      <td>0.001235</td>\n",
       "      <td>0.301337</td>\n",
       "    </tr>\n",
       "    <tr>\n",
       "      <th>6</th>\n",
       "      <td>0.166729</td>\n",
       "      <td>7.061425</td>\n",
       "      <td>-1.665044</td>\n",
       "      <td>-0.934057</td>\n",
       "    </tr>\n",
       "    <tr>\n",
       "      <th>7</th>\n",
       "      <td>0.536892</td>\n",
       "      <td>7.260635</td>\n",
       "      <td>0.244887</td>\n",
       "      <td>-0.026192</td>\n",
       "    </tr>\n",
       "    <tr>\n",
       "      <th>8</th>\n",
       "      <td>0.586456</td>\n",
       "      <td>6.294738</td>\n",
       "      <td>-0.519674</td>\n",
       "      <td>0.999397</td>\n",
       "    </tr>\n",
       "    <tr>\n",
       "      <th>9</th>\n",
       "      <td>0.088033</td>\n",
       "      <td>6.346578</td>\n",
       "      <td>-1.167206</td>\n",
       "      <td>1.783065</td>\n",
       "    </tr>\n",
       "    <tr>\n",
       "      <th>10</th>\n",
       "      <td>1.252196</td>\n",
       "      <td>7.480371</td>\n",
       "      <td>-1.250074</td>\n",
       "      <td>0.191508</td>\n",
       "    </tr>\n",
       "    <tr>\n",
       "      <th>11</th>\n",
       "      <td>0.900587</td>\n",
       "      <td>7.524883</td>\n",
       "      <td>-2.396651</td>\n",
       "      <td>2.204344</td>\n",
       "    </tr>\n",
       "    <tr>\n",
       "      <th>12</th>\n",
       "      <td>-0.143795</td>\n",
       "      <td>7.664610</td>\n",
       "      <td>-1.109095</td>\n",
       "      <td>2.624437</td>\n",
       "    </tr>\n",
       "    <tr>\n",
       "      <th>13</th>\n",
       "      <td>-1.998428</td>\n",
       "      <td>8.009228</td>\n",
       "      <td>0.244814</td>\n",
       "      <td>0.443307</td>\n",
       "    </tr>\n",
       "    <tr>\n",
       "      <th>14</th>\n",
       "      <td>-2.224469</td>\n",
       "      <td>6.918133</td>\n",
       "      <td>-1.042470</td>\n",
       "      <td>-0.106360</td>\n",
       "    </tr>\n",
       "    <tr>\n",
       "      <th>15</th>\n",
       "      <td>-2.336440</td>\n",
       "      <td>7.203546</td>\n",
       "      <td>-0.819659</td>\n",
       "      <td>-0.434482</td>\n",
       "    </tr>\n",
       "    <tr>\n",
       "      <th>16</th>\n",
       "      <td>-3.612689</td>\n",
       "      <td>7.411080</td>\n",
       "      <td>-1.615299</td>\n",
       "      <td>0.419979</td>\n",
       "    </tr>\n",
       "    <tr>\n",
       "      <th>17</th>\n",
       "      <td>-3.442949</td>\n",
       "      <td>7.809081</td>\n",
       "      <td>-0.561319</td>\n",
       "      <td>1.791313</td>\n",
       "    </tr>\n",
       "    <tr>\n",
       "      <th>18</th>\n",
       "      <td>-5.668683</td>\n",
       "      <td>8.542331</td>\n",
       "      <td>-0.836896</td>\n",
       "      <td>3.200389</td>\n",
       "    </tr>\n",
       "    <tr>\n",
       "      <th>19</th>\n",
       "      <td>-6.579029</td>\n",
       "      <td>9.654882</td>\n",
       "      <td>-0.021957</td>\n",
       "      <td>2.487794</td>\n",
       "    </tr>\n",
       "  </tbody>\n",
       "</table>\n",
       "</div>"
      ],
      "text/plain": [
       "    Agriculture   Housing    Health  Technology\n",
       "0     -0.955655  0.523911  0.155958   -0.065891\n",
       "1     -0.364933  3.407179 -0.754990    0.250901\n",
       "2     -1.010476  5.095879 -1.095517    2.064278\n",
       "3     -0.818681  6.314868 -1.353585    0.351849\n",
       "4     -0.731851  8.101088 -0.193452    0.388903\n",
       "5     -1.200101  7.923055  0.001235    0.301337\n",
       "6      0.166729  7.061425 -1.665044   -0.934057\n",
       "7      0.536892  7.260635  0.244887   -0.026192\n",
       "8      0.586456  6.294738 -0.519674    0.999397\n",
       "9      0.088033  6.346578 -1.167206    1.783065\n",
       "10     1.252196  7.480371 -1.250074    0.191508\n",
       "11     0.900587  7.524883 -2.396651    2.204344\n",
       "12    -0.143795  7.664610 -1.109095    2.624437\n",
       "13    -1.998428  8.009228  0.244814    0.443307\n",
       "14    -2.224469  6.918133 -1.042470   -0.106360\n",
       "15    -2.336440  7.203546 -0.819659   -0.434482\n",
       "16    -3.612689  7.411080 -1.615299    0.419979\n",
       "17    -3.442949  7.809081 -0.561319    1.791313\n",
       "18    -5.668683  8.542331 -0.836896    3.200389\n",
       "19    -6.579029  9.654882 -0.021957    2.487794"
      ]
     },
     "execution_count": 19,
     "metadata": {},
     "output_type": "execute_result"
    }
   ],
   "source": [
    "dfGrossExpenses = pd.DataFrame(np.random.randn(20,4).cumsum(0), columns=['Agriculture', 'Housing',\n",
    "                                                                'Health', 'Technology'])\n",
    "dfGrossExpenses"
   ]
  },
  {
   "cell_type": "code",
   "execution_count": 20,
   "metadata": {},
   "outputs": [
    {
     "data": {
      "text/plain": [
       "<matplotlib.axes._subplots.AxesSubplot at 0x7fb297aebd68>"
      ]
     },
     "execution_count": 20,
     "metadata": {},
     "output_type": "execute_result"
    },
    {
     "data": {
      "image/png": "[encoded data removed]",
      "text/plain": [
       "<Figure size 432x288 with 1 Axes>"
      ]
     },
     "metadata": {
      "needs_background": "light"
     },
     "output_type": "display_data"
    }
   ],
   "source": [
    "dfGrossExpenses.plot()"
   ]
  },
  {
   "cell_type": "markdown",
   "metadata": {},
   "source": [
    "Figure: Simple DataFrame plot"
   ]
  },
  {
   "cell_type": "markdown",
   "metadata": {},
   "source": [
    "In the `plot` method we can specify the plot types as well. For example, `df.plot()` is same as `df.plot.line()`. In DataFrame, we can also specify the options to handle the columns such as displaying a plot in the same subplot or create a different subplots etc.\n",
    "\n",
    "Table 2.16: DataFrame plot arguments\n",
    "\n",
    "| Argument | Description |\n",
    "| -------- | ----------- |\n",
    "| subplots | Plot each DataFrame columns in a separate subplot |\n",
    "| sharex | Share the same x-axis, linking ticks and limits with when subplot=True |\n",
    "| sharey | Share same y-axis, linking ticks and limits with when subplot=True |\n",
    "| figsize | Size of figure to create as tuple |\n",
    "| title | Title of the plot |\n",
    "| legend | Add a subplot legend, by default it is True |\n",
    "| sort_columns | Plot columns in alphabetical order, by default it uses existing column order |\n",
    "\n",
    "[For more details](https://pandas.pydata.org/pandas-docs/stable/reference/api/pandas.DataFrame.plot.html#pandas-dataframe-plot)"
   ]
  },
  {
   "cell_type": "markdown",
   "metadata": {},
   "source": [
    "#### 2.11 Bar Plots\n",
    "`plot.bar()` is used to create vertical bar plot and `plot.bar()` for horizontal bar plot. The index of Series or DataFrame will be used as the x (bar) or y (barh) ticks."
   ]
  },
  {
   "cell_type": "code",
   "execution_count": 31,
   "metadata": {},
   "outputs": [
    {
     "data": {
      "text/plain": [
       "<matplotlib.axes._subplots.AxesSubplot at 0x7fb2981aba20>"
      ]
     },
     "execution_count": 31,
     "metadata": {},
     "output_type": "execute_result"
    },
    {
     "data": {
      "image/png": "[encoded data removed]",
      "text/plain": [
       "<Figure size 432x288 with 2 Axes>"
      ]
     },
     "metadata": {
      "needs_background": "light"
     },
     "output_type": "display_data"
    }
   ],
   "source": [
    "import matplotlib.pyplot as plt\n",
    "fig, axes = plt.subplots(2,1)\n",
    "data_set = pd.Series(np.random.rand(6), index=['Col1','Col2', 'Col3', 'Col4', 'Col5', 'Col6'])\n",
    "data_set.plot.bar(ax=axes[0], color='b', alpha=0.2)\n",
    "data_set.plot.barh(ax=axes[1], color='b',alpha=0.5)"
   ]
  },
  {
   "cell_type": "markdown",
   "metadata": {},
   "source": [
    "Figure 2.0: Vertical and Horizontal bar plot"
   ]
  },
  {
   "cell_type": "markdown",
   "metadata": {},
   "source": [
    "In DataFrame, bar plots group the value in each row together in a group in bars, side by side for each value."
   ]
  },
  {
   "cell_type": "code",
   "execution_count": 36,
   "metadata": {},
   "outputs": [
    {
     "data": {
      "text/html": [
       "<div>\n",
       "<style scoped>\n",
       "    .dataframe tbody tr th:only-of-type {\n",
       "        vertical-align: middle;\n",
       "    }\n",
       "\n",
       "    .dataframe tbody tr th {\n",
       "        vertical-align: top;\n",
       "    }\n",
       "\n",
       "    .dataframe thead th {\n",
       "        text-align: right;\n",
       "    }\n",
       "</style>\n",
       "<table border=\"1\" class=\"dataframe\">\n",
       "  <thead>\n",
       "    <tr style=\"text-align: right;\">\n",
       "      <th>Types</th>\n",
       "      <th>A</th>\n",
       "      <th>B</th>\n",
       "      <th>C</th>\n",
       "      <th>D</th>\n",
       "    </tr>\n",
       "  </thead>\n",
       "  <tbody>\n",
       "    <tr>\n",
       "      <th>A</th>\n",
       "      <td>0.953121</td>\n",
       "      <td>0.971425</td>\n",
       "      <td>0.111410</td>\n",
       "      <td>0.317613</td>\n",
       "    </tr>\n",
       "    <tr>\n",
       "      <th>B</th>\n",
       "      <td>0.657999</td>\n",
       "      <td>0.533322</td>\n",
       "      <td>0.453344</td>\n",
       "      <td>0.985172</td>\n",
       "    </tr>\n",
       "    <tr>\n",
       "      <th>C</th>\n",
       "      <td>0.764910</td>\n",
       "      <td>0.812840</td>\n",
       "      <td>0.458428</td>\n",
       "      <td>0.483233</td>\n",
       "    </tr>\n",
       "    <tr>\n",
       "      <th>D</th>\n",
       "      <td>0.064221</td>\n",
       "      <td>0.847255</td>\n",
       "      <td>0.339891</td>\n",
       "      <td>0.560187</td>\n",
       "    </tr>\n",
       "    <tr>\n",
       "      <th>E</th>\n",
       "      <td>0.886750</td>\n",
       "      <td>0.360476</td>\n",
       "      <td>0.892862</td>\n",
       "      <td>0.443342</td>\n",
       "    </tr>\n",
       "    <tr>\n",
       "      <th>F</th>\n",
       "      <td>0.534812</td>\n",
       "      <td>0.327685</td>\n",
       "      <td>0.955631</td>\n",
       "      <td>0.274485</td>\n",
       "    </tr>\n",
       "  </tbody>\n",
       "</table>\n",
       "</div>"
      ],
      "text/plain": [
       "Types         A         B         C         D\n",
       "A      0.953121  0.971425  0.111410  0.317613\n",
       "B      0.657999  0.533322  0.453344  0.985172\n",
       "C      0.764910  0.812840  0.458428  0.483233\n",
       "D      0.064221  0.847255  0.339891  0.560187\n",
       "E      0.886750  0.360476  0.892862  0.443342\n",
       "F      0.534812  0.327685  0.955631  0.274485"
      ]
     },
     "execution_count": 36,
     "metadata": {},
     "output_type": "execute_result"
    }
   ],
   "source": [
    "dfDs = pd.DataFrame(np.random.rand(6,4), index=list('ABCDEF'), columns=pd.Index(['A','B','C','D'],name='Types'))\n",
    "dfDs"
   ]
  },
  {
   "cell_type": "code",
   "execution_count": 38,
   "metadata": {},
   "outputs": [
    {
     "data": {
      "text/plain": [
       "<matplotlib.axes._subplots.AxesSubplot at 0x7fb298278ef0>"
      ]
     },
     "execution_count": 38,
     "metadata": {},
     "output_type": "execute_result"
    },
    {
     "data": {
      "image/png": "[encoded data removed]",
      "text/plain": [
       "<Figure size 432x288 with 1 Axes>"
      ]
     },
     "metadata": {
      "needs_background": "light"
     },
     "output_type": "display_data"
    }
   ],
   "source": [
    "dfDs.plot.bar()"
   ]
  },
  {
   "cell_type": "markdown",
   "metadata": {},
   "source": [
    "Figure 2.0: DataFrame bar plot"
   ]
  },
  {
   "cell_type": "markdown",
   "metadata": {},
   "source": [
    "The name \"Types\" is used on the DataFrame columns is used for the legend title.   \n",
    "If we pass the `stacked=True` then the plot will be converted to stacked bar plots. It will show the value in each row by stacking together."
   ]
  },
  {
   "cell_type": "code",
   "execution_count": 39,
   "metadata": {},
   "outputs": [
    {
     "data": {
      "text/plain": [
       "<matplotlib.axes._subplots.AxesSubplot at 0x7fb2983bbe48>"
      ]
     },
     "execution_count": 39,
     "metadata": {},
     "output_type": "execute_result"
    },
    {
     "data": {
      "image/png": "[encoded data removed]",
      "text/plain": [
       "<Figure size 432x288 with 1 Axes>"
      ]
     },
     "metadata": {
      "needs_background": "light"
     },
     "output_type": "display_data"
    }
   ],
   "source": [
    "dfDs.plot.barh(stacked=True, alpha=0.8)"
   ]
  },
  {
   "cell_type": "markdown",
   "metadata": {},
   "source": [
    "Figure 2.0: DataFrame stacked bar plot"
   ]
  },
  {
   "cell_type": "markdown",
   "metadata": {},
   "source": [
    "We can also use seaborn to plot. In searborn, it takes `data` argument which is similar to pandas DataFrame."
   ]
  },
  {
   "cell_type": "code",
   "execution_count": 43,
   "metadata": {},
   "outputs": [
    {
     "data": {
      "text/html": [
       "<div>\n",
       "<style scoped>\n",
       "    .dataframe tbody tr th:only-of-type {\n",
       "        vertical-align: middle;\n",
       "    }\n",
       "\n",
       "    .dataframe tbody tr th {\n",
       "        vertical-align: top;\n",
       "    }\n",
       "\n",
       "    .dataframe thead th {\n",
       "        text-align: right;\n",
       "    }\n",
       "</style>\n",
       "<table border=\"1\" class=\"dataframe\">\n",
       "  <thead>\n",
       "    <tr style=\"text-align: right;\">\n",
       "      <th></th>\n",
       "      <th>total_bill</th>\n",
       "      <th>tip</th>\n",
       "      <th>sex</th>\n",
       "      <th>smoker</th>\n",
       "      <th>day</th>\n",
       "      <th>time</th>\n",
       "      <th>size</th>\n",
       "    </tr>\n",
       "  </thead>\n",
       "  <tbody>\n",
       "    <tr>\n",
       "      <th>0</th>\n",
       "      <td>16.99</td>\n",
       "      <td>1.01</td>\n",
       "      <td>Female</td>\n",
       "      <td>No</td>\n",
       "      <td>Sun</td>\n",
       "      <td>Dinner</td>\n",
       "      <td>2</td>\n",
       "    </tr>\n",
       "    <tr>\n",
       "      <th>1</th>\n",
       "      <td>10.34</td>\n",
       "      <td>1.66</td>\n",
       "      <td>Male</td>\n",
       "      <td>No</td>\n",
       "      <td>Sun</td>\n",
       "      <td>Dinner</td>\n",
       "      <td>3</td>\n",
       "    </tr>\n",
       "    <tr>\n",
       "      <th>2</th>\n",
       "      <td>21.01</td>\n",
       "      <td>3.50</td>\n",
       "      <td>Male</td>\n",
       "      <td>No</td>\n",
       "      <td>Sun</td>\n",
       "      <td>Dinner</td>\n",
       "      <td>3</td>\n",
       "    </tr>\n",
       "    <tr>\n",
       "      <th>3</th>\n",
       "      <td>23.68</td>\n",
       "      <td>3.31</td>\n",
       "      <td>Male</td>\n",
       "      <td>No</td>\n",
       "      <td>Sun</td>\n",
       "      <td>Dinner</td>\n",
       "      <td>2</td>\n",
       "    </tr>\n",
       "    <tr>\n",
       "      <th>4</th>\n",
       "      <td>24.59</td>\n",
       "      <td>3.61</td>\n",
       "      <td>Female</td>\n",
       "      <td>No</td>\n",
       "      <td>Sun</td>\n",
       "      <td>Dinner</td>\n",
       "      <td>4</td>\n",
       "    </tr>\n",
       "  </tbody>\n",
       "</table>\n",
       "</div>"
      ],
      "text/plain": [
       "   total_bill   tip     sex smoker  day    time  size\n",
       "0       16.99  1.01  Female     No  Sun  Dinner     2\n",
       "1       10.34  1.66    Male     No  Sun  Dinner     3\n",
       "2       21.01  3.50    Male     No  Sun  Dinner     3\n",
       "3       23.68  3.31    Male     No  Sun  Dinner     2\n",
       "4       24.59  3.61  Female     No  Sun  Dinner     4"
      ]
     },
     "execution_count": 43,
     "metadata": {},
     "output_type": "execute_result"
    }
   ],
   "source": [
    "import seaborn as sns\n",
    "\n",
    "# load tips dataset\n",
    "tips = sns.load_dataset(\"tips\")\n",
    "tips.head(5)"
   ]
  },
  {
   "cell_type": "code",
   "execution_count": 44,
   "metadata": {},
   "outputs": [],
   "source": [
    "tips['tip_percentage'] = tips['tip']/(tips['total_bill'] - tips['tip'])  # calculate the tip_percentage"
   ]
  },
  {
   "cell_type": "code",
   "execution_count": 45,
   "metadata": {},
   "outputs": [
    {
     "data": {
      "text/plain": [
       "<matplotlib.axes._subplots.AxesSubplot at 0x7fb2990514e0>"
      ]
     },
     "execution_count": 45,
     "metadata": {},
     "output_type": "execute_result"
    },
    {
     "data": {
      "image/png": "[encoded data removed]",
      "text/plain": [
       "<Figure size 432x288 with 1 Axes>"
      ]
     },
     "metadata": {
      "needs_background": "light"
     },
     "output_type": "display_data"
    }
   ],
   "source": [
    "sns.barplot(x='tip_percentage', y='day', data=tips, orient='h')"
   ]
  },
  {
   "cell_type": "markdown",
   "metadata": {},
   "source": [
    "Figure 2.0: Bar plot to display tip percentage.   \n",
    "\n",
    "The line in plots represent the 95% confidence interval."
   ]
  },
  {
   "cell_type": "markdown",
   "metadata": {},
   "source": [
    "The `hue` option in `seaborn.barplot` enables to split by an additional categorical value shown in figure below."
   ]
  },
  {
   "cell_type": "code",
   "execution_count": 46,
   "metadata": {},
   "outputs": [
    {
     "data": {
      "text/plain": [
       "<matplotlib.axes._subplots.AxesSubplot at 0x7fb29444b588>"
      ]
     },
     "execution_count": 46,
     "metadata": {},
     "output_type": "execute_result"
    },
    {
     "data": {
      "image/png": "[encoded data removed]",
      "text/plain": [
       "<Figure size 432x288 with 1 Axes>"
      ]
     },
     "metadata": {
      "needs_background": "light"
     },
     "output_type": "display_data"
    }
   ],
   "source": [
    "sns.barplot(x='tip_percentage', y='day', hue='time', data=tips, orient='h')"
   ]
  },
  {
   "cell_type": "markdown",
   "metadata": {},
   "source": [
    "Figure 2.0: Bar plot to display tip percentage by day and time"
   ]
  },
  {
   "cell_type": "markdown",
   "metadata": {},
   "source": [
    "Seaborn will automatically change the aesthetics of plots such as color palette, background, and grid line colors. We can also set appearances by using `seaborn.set` option. For example, `sns.set(styple=\"whitegrid\")`.\n",
    "\n",
    "[More details on searborn](https://seaborn.pydata.org/tutorial.html#user-guide-and-tutorial)"
   ]
  },
  {
   "cell_type": "markdown",
   "metadata": {},
   "source": [
    "#### 2.12 Histograms\n",
    "\n",
    "Histogram is a bar plot which gives discretized display of value frequency. The data point in histogram are splited into discrete, evenly spaced bins, and the number of data points in each bin will be plotted. We can create a histogram using `plot.hist` method."
   ]
  },
  {
   "cell_type": "code",
   "execution_count": 48,
   "metadata": {},
   "outputs": [
    {
     "data": {
      "text/plain": [
       "<matplotlib.axes._subplots.AxesSubplot at 0x7fb2944b0e10>"
      ]
     },
     "execution_count": 48,
     "metadata": {},
     "output_type": "execute_result"
    },
    {
     "data": {
      "image/png": "[encoded data removed]",
      "text/plain": [
       "<Figure size 432x288 with 1 Axes>"
      ]
     },
     "metadata": {
      "needs_background": "light"
     },
     "output_type": "display_data"
    }
   ],
   "source": [
    "tips['tip_percentage'].plot.hist(bins=50)"
   ]
  },
  {
   "cell_type": "markdown",
   "metadata": {},
   "source": [
    "Figure 2.0: History gram of tip percentage"
   ]
  },
  {
   "cell_type": "markdown",
   "metadata": {},
   "source": [
    "#### 2.13 Density Plots\n",
    "Density plot is formed by computing an estimate of continuous probability distribution that might have generated the observed data. It will approximate the distribution as a mixture of \"kernels\", which is simpler distribution like the normal distribution. Density plots are also known as kernel density estimate (KDE) plots. `plot.kde` makes a density plot using conventional mixture-of-normals estimate. We can also use `distplot` method to create histogram and density plots."
   ]
  },
  {
   "cell_type": "code",
   "execution_count": 50,
   "metadata": {},
   "outputs": [
    {
     "data": {
      "text/plain": [
       "<matplotlib.axes._subplots.AxesSubplot at 0x7fb2991ec320>"
      ]
     },
     "execution_count": 50,
     "metadata": {},
     "output_type": "execute_result"
    },
    {
     "data": {
      "image/png": "[encoded data removed]",
      "text/plain": [
       "<Figure size 432x288 with 1 Axes>"
      ]
     },
     "metadata": {
      "needs_background": "light"
     },
     "output_type": "display_data"
    }
   ],
   "source": [
    "tips['tip_percentage'].plot.density()"
   ]
  },
  {
   "cell_type": "markdown",
   "metadata": {},
   "source": [
    "Figure 2.0: Density plot of tip percentage"
   ]
  },
  {
   "cell_type": "markdown",
   "metadata": {},
   "source": [
    "#### 2.14 Scatter or Point plots\n",
    "Scatter plots or points plot are useful to show relationship between two one-dimensional data series. "
   ]
  },
  {
   "cell_type": "code",
   "execution_count": null,
   "metadata": {},
   "outputs": [],
   "source": []
  }
 ],
 "metadata": {
  "kernelspec": {
   "display_name": "Python 3",
   "language": "python",
   "name": "python3"
  },
  "language_info": {
   "codemirror_mode": {
    "name": "ipython",
    "version": 3
   },
   "file_extension": ".py",
   "mimetype": "text/x-python",
   "name": "python",
   "nbconvert_exporter": "python",
   "pygments_lexer": "ipython3",
   "version": "3.7.3"
  }
 },
 "nbformat": 4,
 "nbformat_minor": 2
}
